{
 "cells": [
  {
   "cell_type": "markdown",
   "id": "f4b6627c",
   "metadata": {},
   "source": [
    "# Python Workshop\n",
    "\n",
    "## Overview\n",
    "\n",
    "This workshop will cover the basics of python and put you in a position where you will be able to begin your journey into machine learning. We will be covering:\n",
    "+ basic operators\n",
    "+ variables\n",
    "+ strings\n",
    "+ conditional logic\n",
    "+ lists and strings\n",
    "+ selection\n",
    "+ iteration \n",
    "+ functions\n",
    "+ basic file io\n",
    "+ plotting\n"
   ]
  },
  {
   "cell_type": "markdown",
   "id": "7b9923f2",
   "metadata": {},
   "source": [
    "## Introduction to python\n",
    "\n",
    "Python is an interpreted high level language. An interpreted language is one that will compile and execute line by line, as opposed to a compiled language, in which all code must be compiled first before execution. It has many uses as it is a general purpose language, however, recently has been used a lot for data manipulation and machine learning, due to its ease of use and the powerful libraries that it gives access to. "
   ]
  },
  {
   "cell_type": "markdown",
   "id": "53f43ae8",
   "metadata": {},
   "source": [
    "## Basic Operators\n",
    "\n",
    "Python is very powerful and allows us to do many operations such as mathematic operations. Things such as addition and subtraction, multiplication and division can easily be done using +, -, * and / repsectively."
   ]
  },
  {
   "cell_type": "code",
   "execution_count": 7,
   "id": "21381f73",
   "metadata": {},
   "outputs": [],
   "source": [
    "# add 1 and 2"
   ]
  },
  {
   "cell_type": "code",
   "execution_count": 2,
   "id": "f6a2f4f1",
   "metadata": {},
   "outputs": [],
   "source": [
    "# subtract 4 from 5"
   ]
  },
  {
   "cell_type": "code",
   "execution_count": 3,
   "id": "12c27a8d",
   "metadata": {},
   "outputs": [],
   "source": [
    "# multiply 2 and 5"
   ]
  },
  {
   "cell_type": "code",
   "execution_count": 4,
   "id": "4ba8b826",
   "metadata": {},
   "outputs": [],
   "source": [
    "# divide 10 by 2"
   ]
  },
  {
   "cell_type": "markdown",
   "id": "36b444e5",
   "metadata": {},
   "source": [
    "<details><summary>Click for a hint</summary>\n",
    "   Think about how you would enter the equation into a calculator but press run instead of the equals button.\n",
    "<details><summary>Click to cheat</summary>\n",
    "  <p>\n",
    "\n",
    "  ---\n",
    "\n",
    "  ```python\n",
    "  1 + 2 # add 1 and 2\n",
    "  ```\n",
    "\n",
    "  ---\n",
    "\n",
    "  ```python\n",
    "  5 - 4 # subtract 4 from 5\n",
    "  ```\n",
    "\n",
    "  ---\n",
    "\n",
    "  ```python\n",
    "  2 * 5 # multiple 2 and 5\n",
    "  ```\n",
    "\n",
    "  ---\n",
    "\n",
    "  ```python\n",
    "  10 / 2 # divide 10 by 2\n",
    "  ```\n",
    "  </p>\n",
    "</details>\n",
    "</details>"
   ]
  },
  {
   "cell_type": "markdown",
   "id": "cedc4d2d",
   "metadata": {},
   "source": [
    "As you can seen within this jupyter environment it will display output for us. However, in a terminal environment you need to use the ```print()``` function. "
   ]
  },
  {
   "cell_type": "code",
   "execution_count": 5,
   "id": "7380c153",
   "metadata": {},
   "outputs": [],
   "source": [
    "# print the number 1"
   ]
  },
  {
   "cell_type": "markdown",
   "id": "3618f496",
   "metadata": {},
   "source": [
    "<details><summary>Click for a hint</summary>\n",
    "\n",
    "   Use ```print()``` like a mathematical function\n",
    "<details><summary>Click to cheat</summary>\n",
    "\n",
    "  ```python\n",
    "  print(1)  # print the number 1\n",
    "  ```\n",
    "</details>\n",
    "</details>"
   ]
  },
  {
   "cell_type": "markdown",
   "id": "dcc9602e",
   "metadata": {},
   "source": [
    "If we want to print text we must first enclose it in \"\" or ''. Try printing the text \"Hello World\"."
   ]
  },
  {
   "cell_type": "code",
   "execution_count": 6,
   "id": "fbd368e7",
   "metadata": {},
   "outputs": [],
   "source": [
    "# quotations examples"
   ]
  },
  {
   "cell_type": "markdown",
   "id": "6662fa06",
   "metadata": {},
   "source": [
    "<details><summary>Click to cheat</summary>\n",
    "\n",
    "  ```python\n",
    "  print(\"Hello World\")\n",
    "  ```\n",
    "  or\n",
    "  ```python\n",
    "  print('Hello World')\n",
    "  ```\n",
    "</details>"
   ]
  },
  {
   "cell_type": "markdown",
   "id": "987530b5",
   "metadata": {},
   "source": [
    "Without escapting the second ' it closes the string early resulting in a error. To resolve this we must include the \\ before the '."
   ]
  },
  {
   "cell_type": "code",
   "execution_count": 7,
   "id": "e426ee43",
   "metadata": {},
   "outputs": [],
   "source": [
    "print('This isn't so hard is it') # escape character"
   ]
  },
  {
   "cell_type": "markdown",
   "id": "982094f9",
   "metadata": {},
   "source": [
    "<details><summary>Click to cheat</summary>\n",
    "\n",
    "  ```python\n",
    "  print('This isn\\'t so hard is it')\n",
    "  ```\n",
    "</details>"
   ]
  },
  {
   "cell_type": "markdown",
   "id": "40937d55",
   "metadata": {},
   "source": [
    "You can also print multiple strings in one print statement."
   ]
  },
  {
   "cell_type": "code",
   "execution_count": null,
   "id": "0a0ce686",
   "metadata": {},
   "outputs": [],
   "source": [
    "print(\"Hello\", \"world!\")"
   ]
  },
  {
   "cell_type": "markdown",
   "id": "35a802e8",
   "metadata": {},
   "source": [
    "## More Mathematical Operators\n",
    "\n",
    "Back to the math operations as before, there are still more. We can also use indices as well as floor divison and finding the remainder. These are done with `**`, `//`, and `%` respectively. Brackets can also be used for order of operations."
   ]
  },
  {
   "cell_type": "code",
   "execution_count": 8,
   "id": "5370a4be",
   "metadata": {},
   "outputs": [],
   "source": [
    "# Raise 5 to the power of 2"
   ]
  },
  {
   "cell_type": "code",
   "execution_count": 9,
   "id": "fc4433f5",
   "metadata": {},
   "outputs": [],
   "source": [
    "# integer division 5 by 2"
   ]
  },
  {
   "cell_type": "code",
   "execution_count": 10,
   "id": "01d552b3",
   "metadata": {},
   "outputs": [],
   "source": [
    "# modulo 5 by 2"
   ]
  },
  {
   "cell_type": "code",
   "execution_count": 11,
   "id": "5f2783c4",
   "metadata": {},
   "outputs": [],
   "source": [
    "# Use brackets to add 5 and 2 before mutliplying by 10"
   ]
  },
  {
   "cell_type": "markdown",
   "id": "70dba081",
   "metadata": {},
   "source": [
    "<details><summary>Click to cheat</summary>\n",
    "\n",
    "  ```python\n",
    "  5 ** 2 # Raise 5 to the power of 2\n",
    "  ```\n",
    "  ---\n",
    "  ```python\n",
    "  5 // 2 # integer division 5 by 2\n",
    "  ```\n",
    "  ---\n",
    "  ```python\n",
    "  5 % 2 # modulo 5 by 2\n",
    "  ```\n",
    "  ---\n",
    "  ```python\n",
    "  (5 + 2) * 10 # Use brackets to add 5 and 2 before multiplying by 10\n",
    "  ```\n",
    "</details>"
   ]
  },
  {
   "cell_type": "markdown",
   "id": "c5f74df1",
   "metadata": {},
   "source": [
    "## Variables\n",
    "\n",
    "Variables can be thought of as a container for a piece of data, or something that will store something. Variables in python allow for data to be retained for further processing later on. We use the equals symbol (`=`) to assign a value to a variable.\n",
    "\n",
    "Create a variable called `var`, assign it a number then print the result. Create a new variable `var2` by multiply `var` by 2 and print out the new value."
   ]
  },
  {
   "cell_type": "code",
   "execution_count": 12,
   "id": "ec6e768e",
   "metadata": {},
   "outputs": [],
   "source": [
    "  # Create the variable by assigning it a number\n",
    "  # Print the value\n",
    "  # Multiply by 2\n",
    "  # Print the new value"
   ]
  },
  {
   "cell_type": "markdown",
   "id": "8d11c07d",
   "metadata": {},
   "source": [
    "<details><summary>Click to cheat</summary>\n",
    "\n",
    "  ```python\n",
    "  var = 10 # Create the variable by assigning it a number\n",
    "  print(var) # Print the value\n",
    "  var2 = var * 2 # Multiply by 2\n",
    "  print(var2) # Print the new value\n",
    "  ```\n",
    "</details>"
   ]
  },
  {
   "cell_type": "markdown",
   "id": "d70b815e",
   "metadata": {},
   "source": [
    "Notice that after multiplying by 2, `var` still has the old value. You can confirm this by printing `var` after creating `var2`."
   ]
  },
  {
   "cell_type": "markdown",
   "id": "8ba54edf",
   "metadata": {},
   "source": [
    "There are however some rules about what we can name variables:\n",
    "+ A variable name can only contain alpha-numeric characters and underscores (`A-Z`, `a-z`, `0-9`, and `_`)\n",
    "+ A variable name must start with a letter or the underscore character (`_`)\n",
    "+ A variable name cannot start with a digit\n",
    "+ Variable names are case-sensitive (`age`, `Age` and `AGE` are three different variables)\n",
    "+ Can't be reserved words such as ```for```, ```if```, ```while```, ... etc. As these words have special meaning within Python"
   ]
  },
  {
   "cell_type": "markdown",
   "id": "8053d688",
   "metadata": {},
   "source": [
    "We also have the ability to comment in our code. It allows for us to explain certain things within our code and helps to improve the overall readability of our code, which is very important as we want other people and our future selves to easily be able to read code. (Most of programming reading and using existing code, not writing it!)"
   ]
  },
  {
   "cell_type": "code",
   "execution_count": 13,
   "id": "54401e0f",
   "metadata": {},
   "outputs": [],
   "source": [
    "#This is a comment"
   ]
  },
  {
   "cell_type": "markdown",
   "id": "eef2c343",
   "metadata": {},
   "source": [
    "As shown we can comment using the ```#``` character. Anything after this will be a comment. We can put this character anywhere and all characters after will be commented, hence, will not run as code."
   ]
  },
  {
   "cell_type": "code",
   "execution_count": 14,
   "id": "dadc7e88",
   "metadata": {},
   "outputs": [],
   "source": [
    "var1 = 10 # we can also comment at the end of a line"
   ]
  },
  {
   "cell_type": "markdown",
   "id": "ab076e27",
   "metadata": {},
   "source": [
    "While comments are useful, they are no substitute for good variable naming! Comments should compliment good naming, not compensate it!"
   ]
  },
  {
   "cell_type": "markdown",
   "id": "c1b9ff93",
   "metadata": {},
   "source": [
    "Try renaming the variables based on the comments then delete the comments."
   ]
  },
  {
   "cell_type": "code",
   "execution_count": 15,
   "id": "142e93ff",
   "metadata": {},
   "outputs": [],
   "source": [
    "yay = 100  # my income\n",
    "no = 0.1  # tax rate\n",
    "sad = yay * no   # the taxes I have to pay\n",
    "# Display taxes that need to be paid\n",
    "print(sad)"
   ]
  },
  {
   "cell_type": "markdown",
   "id": "77665421",
   "metadata": {},
   "source": [
    "<details><summary>Click to cheat</summary>\n",
    "\n",
    "  Using camelCase,\n",
    "  ```python\n",
    "  myIncome = 100\n",
    "  taxRate = 0.1\n",
    "  myTaxes = myIncome * taxRate\n",
    "  print(myTaxes)\n",
    "  ```\n",
    "  ---\n",
    "  or using snake_case,\n",
    "  ```python\n",
    "  my_income = 100\n",
    "  tax_rate = 0.1\n",
    "  my_taxes = my_income * tax_rate\n",
    "  print(my_taxes)\n",
    "  ```\n",
    "\n",
    "</details>"
   ]
  },
  {
   "cell_type": "markdown",
   "id": "01fda245",
   "metadata": {},
   "source": [
    "### Types\n",
    "\n",
    "Variables have types. These relate to the type of data. So far we have seen integers, strings (text), and floats. Python has many built in types, some of which we will cover later. Python has loose typing, meaning variables typing is not fixed, for example we can store an integer in a variable then overwrite it with a string.\n",
    "\n",
    "####  Integers\n",
    "There are whole numbers, such as `1`, `12343`, and `1080`.\n",
    "\n",
    "#### Floats\n",
    "There are also numbers however contain a floating point, hence can be seen as decimals, such as `3.14` and `2.18`.\n",
    "\n",
    "#### Strings\n",
    "These are text or any sequence of characters. As these are sequences we can access individual elements within these sequences, however, this will be touched on later. Exampels include `\"Hello World\"`. As stated before to declare something as a string it must be contained in either ```''``` or ```\"\"```"
   ]
  },
  {
   "cell_type": "markdown",
   "id": "3af17950",
   "metadata": {},
   "source": [
    "Try declaring some variables of the specified types below"
   ]
  },
  {
   "cell_type": "code",
   "execution_count": 16,
   "id": "d33108c3",
   "metadata": {},
   "outputs": [],
   "source": [
    "# this is an integer\n",
    "\n",
    "# this is a float \n",
    "\n",
    "# this is a string"
   ]
  },
  {
   "cell_type": "markdown",
   "id": "0d8877a0",
   "metadata": {},
   "source": [
    "<details><summary>Click to cheat</summary>\n",
    "\n",
    "  ```python\n",
    "  # this is an integer\n",
    "  var1 = 10\n",
    "\n",
    "  # this is a float\n",
    "  var2 = 3.14\n",
    "\n",
    "  # this is a string\n",
    "  var3 = \"hello\"\n",
    "  ```\n",
    "</details>"
   ]
  },
  {
   "cell_type": "markdown",
   "id": "4baa79bf",
   "metadata": {},
   "source": [
    "It is also possible to change the type of certain variables such as converting an integer to a string, or a string to an integer. This is done through type casting, which changes the type of a piece of data. The keywords ```int()``` and ```str()``` are used to achieve this."
   ]
  },
  {
   "cell_type": "code",
   "execution_count": null,
   "id": "33e77ef2",
   "metadata": {},
   "outputs": [],
   "source": [
    "# Convert 10 from a string to an int\n"
   ]
  },
  {
   "cell_type": "code",
   "execution_count": null,
   "id": "49db579a",
   "metadata": {},
   "outputs": [],
   "source": [
    "# Convert 10 from an int to a string\n"
   ]
  },
  {
   "cell_type": "markdown",
   "id": "5fb2ae77",
   "metadata": {},
   "source": [
    "<details><summary>Click to cheat</summary>\n",
    "\n",
    "  ```python\n",
    "  # Convert 10 from a string to an int\n",
    "  int(\"10\")\n",
    "  ```\n",
    "  ---\n",
    "  ```python\n",
    "  # Convert 10 from an int to a string\n",
    "  str(10)\n",
    "  ```\n",
    "</details>"
   ]
  },
  {
   "cell_type": "markdown",
   "id": "8e34d4a0",
   "metadata": {},
   "source": [
    "### Strings in-depth\n",
    "\n",
    "\n",
    "As stated earlier jupyter will print things for us if we enter just it within a block. Otherwise we must make use of the ```print()``` function.\n",
    "\n",
    "There also exist special characters that make use of the escape character (`\\`). These are the return character `\\r`, newline character `\\n`, and tab character `\\t`."
   ]
  },
  {
   "cell_type": "code",
   "execution_count": null,
   "id": "090daefc",
   "metadata": {},
   "outputs": [],
   "source": [
    "print(\"This \\n represents a new line\")\n",
    "print(\"This \\t is a tab\")\n",
    "print(\"This \\r is a carriage return\")"
   ]
  },
  {
   "cell_type": "markdown",
   "id": "a1877c89",
   "metadata": {},
   "source": [
    "Once again we can use `\\` to \"escape\" special characters such as `\\n` and also single quotes!"
   ]
  },
  {
   "cell_type": "code",
   "execution_count": 17,
   "id": "a40025b6",
   "metadata": {},
   "outputs": [],
   "source": [
    "# \\ allows us to print special characters including single quotes\n",
    "print(\"Now we can print \\\\n\")\n",
    "print('I\\'m also able to use single quotes now')"
   ]
  },
  {
   "cell_type": "markdown",
   "id": "dc1f202f",
   "metadata": {},
   "source": [
    "The length of a string can be found using the ```len()``` function. This will give us the number of characters in a string, as it counts all the characters, including spaces."
   ]
  },
  {
   "cell_type": "code",
   "execution_count": null,
   "id": "2dbaedcb",
   "metadata": {},
   "outputs": [],
   "source": [
    "# Find the length of any string you want\n"
   ]
  },
  {
   "cell_type": "markdown",
   "id": "cc9d25bd",
   "metadata": {},
   "source": [
    "<details><summary>Click to cheat</summary>\n",
    "\n",
    "  ```python\n",
    "  len(\"This is a very long string\")\n",
    "  ```\n",
    "</details>"
   ]
  },
  {
   "cell_type": "markdown",
   "id": "933f3802",
   "metadata": {},
   "source": [
    "We can concatenate strings using the ```+``` operator, as it is not just used for addition."
   ]
  },
  {
   "cell_type": "code",
   "execution_count": null,
   "id": "08541536",
   "metadata": {},
   "outputs": [],
   "source": [
    "# Concatenate the strings \"Hello\" and \"World\"\n"
   ]
  },
  {
   "cell_type": "markdown",
   "id": "6735c5af",
   "metadata": {},
   "source": [
    "<details><summary>Click to cheat</summary>\n",
    "\n",
    "  ```python\n",
    "  \"Hello\" + \"World\"\n",
    "  ```\n",
    "</details>"
   ]
  },
  {
   "cell_type": "markdown",
   "id": "b3cffb8d",
   "metadata": {},
   "source": [
    "This concatenation can also be used with variables that are strings"
   ]
  },
  {
   "cell_type": "code",
   "execution_count": 18,
   "id": "b083acbe",
   "metadata": {},
   "outputs": [],
   "source": [
    "# two string variables\n",
    "hello = \"Hello\"\n",
    "world = \"World\"\n",
    "\n",
    "# string concatenation\n"
   ]
  },
  {
   "cell_type": "markdown",
   "id": "121facef",
   "metadata": {},
   "source": [
    "<details><summary>Click to cheat</summary>\n",
    "\n",
    "  ```python\n",
    "  # two string variables\n",
    "  hello = \"Hello\"\n",
    "  world = \"World\"\n",
    "\n",
    "  # string concatenation\n",
    "  hello + world\n",
    "  ```\n",
    "</details>"
   ]
  },
  {
   "cell_type": "markdown",
   "id": "187933cd",
   "metadata": {},
   "source": [
    "We can also use the `*` operator to repeat a string multiple times. Once again this operator is not just for maths, so be careful operators and what data type they are operating on."
   ]
  },
  {
   "cell_type": "code",
   "execution_count": null,
   "id": "541a44aa",
   "metadata": {},
   "outputs": [],
   "source": [
    "myString = \"my string\"\n",
    "# Mutliply the string variable by 4\n"
   ]
  },
  {
   "cell_type": "markdown",
   "id": "d605740a",
   "metadata": {},
   "source": [
    "<details><summary>Click to cheat</summary>\n",
    "\n",
    "  ```python\n",
    "  myString = \"my string\"\n",
    "  # Mutliply the string variable by 4\n",
    "  myString * 4\n",
    "  ```\n",
    "</details>"
   ]
  },
  {
   "cell_type": "markdown",
   "id": "0b84da2c",
   "metadata": {},
   "source": [
    "Notice that spaces are not automatically inserted inbetween concatenated strings."
   ]
  },
  {
   "cell_type": "markdown",
   "id": "382cd32f",
   "metadata": {},
   "source": [
    "It is also possible to take a string from the user to do as you so please. This is done through the function ```input(prompt)``` where `prompt` is a string that prompts the user."
   ]
  },
  {
   "cell_type": "code",
   "execution_count": null,
   "id": "fdc647af",
   "metadata": {},
   "outputs": [],
   "source": [
    "# Use input() to prompt the user to enter their name\n"
   ]
  },
  {
   "cell_type": "markdown",
   "id": "d0ff4256",
   "metadata": {},
   "source": [
    "<details><summary>Click to cheat</summary>\n",
    "\n",
    "  ```python\n",
    "  # Use input() to prompt the user to enter their name\n",
    "  input(\"Enter your name: \")\n",
    "  ```\n",
    "</details>"
   ]
  },
  {
   "cell_type": "markdown",
   "id": "8d4ac89a",
   "metadata": {},
   "source": [
    "## Variables revisitied\n",
    "\n",
    "There are a few more things to mention with variables. They can be reassigned and done so with reference to itself. "
   ]
  },
  {
   "cell_type": "code",
   "execution_count": null,
   "id": "38334326",
   "metadata": {},
   "outputs": [],
   "source": [
    "num = 10\n",
    "  # Increase num by 10\n",
    "print(num)"
   ]
  },
  {
   "cell_type": "markdown",
   "id": "69225abb",
   "metadata": {},
   "source": [
    "<details><summary>Click to cheat</summary>\n",
    "\n",
    "  ```python\n",
    "num = 10\n",
    "num = num + 10 # Increase num by 10\n",
    "print(num)\n",
    "  ```\n",
    "</details>"
   ]
  },
  {
   "cell_type": "markdown",
   "id": "b1119789",
   "metadata": {},
   "source": [
    "This is possible as the right hand side of the expression is evaluated first, before then assigning the result to the variable. This logic can also be simplied using `+=`. There is also `/=`, `-=`, `*=`."
   ]
  },
  {
   "cell_type": "code",
   "execution_count": 19,
   "id": "73728628",
   "metadata": {},
   "outputs": [],
   "source": [
    "  # Increase num by 10 using +=\n",
    "print(num)"
   ]
  },
  {
   "cell_type": "markdown",
   "id": "546d8073",
   "metadata": {},
   "source": [
    "<details><summary>Click to cheat</summary>\n",
    "\n",
    "  ```python\n",
    "num += 10 # Increase num by 10 using +=\n",
    "print(num)\n",
    "  ```\n",
    "</details>"
   ]
  },
  {
   "cell_type": "markdown",
   "id": "37fa445c",
   "metadata": {},
   "source": [
    "### Using type\n",
    "\n",
    "```type()``` allows us to find the type of a variable. Run the cell below to find out the types."
   ]
  },
  {
   "cell_type": "code",
   "execution_count": null,
   "id": "352d2ee3",
   "metadata": {},
   "outputs": [],
   "source": [
    "var = 10\n",
    "var2 = '10'\n",
    "var3 = 10.0\n",
    "\n",
    "print(type(var))\n",
    "print(type(var2))\n",
    "print(type(var3))"
   ]
  },
  {
   "cell_type": "markdown",
   "id": "7005452f",
   "metadata": {},
   "source": [
    "## Conditional Logic\n",
    "\n",
    "We are able to execute logic operations as well within python using the boolean type. Booleans can be one of two values ```True``` or ```False```."
   ]
  },
  {
   "cell_type": "code",
   "execution_count": null,
   "id": "584bca8b",
   "metadata": {},
   "outputs": [],
   "source": [
    "# Create a boolean variable\n",
    "\n",
    "# Print the type of the variable\n"
   ]
  },
  {
   "cell_type": "markdown",
   "id": "a56baded",
   "metadata": {},
   "source": [
    "<details><summary>Click to cheat</summary>\n",
    "\n",
    "  ```python\n",
    "# Create a boolean variable\n",
    "var = True\n",
    "# Print the type of the variable\n",
    "print(type(var))\n",
    "  ```\n",
    "</details>"
   ]
  },
  {
   "cell_type": "markdown",
   "id": "4586a900",
   "metadata": {},
   "source": [
    "The logic operators we have access too are ```and```, ```or``` and ```not```. These will be best described with examples."
   ]
  },
  {
   "cell_type": "code",
   "execution_count": null,
   "id": "a0e4be8b",
   "metadata": {},
   "outputs": [],
   "source": [
    "# and will only result in True if both sides are True\n",
    "print(\"True and True is\", True and True)\n",
    "print(\"True and False is\", True and False)\n",
    "print(\"False and True is\", False and True)\n",
    "print(\"False and False is\", False and False)\n",
    "\n",
    "# or will result in True if either side is True\n",
    "print(\"True or True is\", True or True)\n",
    "print(\"True or False is\", True or False)\n",
    "print(\"False or True is\", False or True)\n",
    "print(\"False or False is\", False or False)\n",
    "\n",
    "# lastly not with change to the other one eg:\n",
    "print(\"not True is\", not True)\n",
    "print(\"not False is\", not False)"
   ]
  },
  {
   "cell_type": "markdown",
   "id": "143fa04f",
   "metadata": {},
   "source": [
    "These logic operators are very simple, however, when chained together can allow for some really powerful expression and powerful logic. They can also be used with variables as well as the ```==``` operator and ```!=``` which are once again best explained with examples."
   ]
  },
  {
   "cell_type": "code",
   "execution_count": null,
   "id": "90955af6",
   "metadata": {},
   "outputs": [],
   "source": [
    "# using == and !=\n",
    "var1 = 10\n",
    "print(\"var1 == 10: \", var1 == 10)\n",
    "print(\"var1 != 10: \", var1 != 10)\n",
    "print(\"var1 == 12: \", var1 == 12)\n",
    "\n",
    "# we can then chain these expression together\n",
    "print(not (var1 == 10 and var1 != 12))"
   ]
  },
  {
   "cell_type": "markdown",
   "id": "015aeba6",
   "metadata": {},
   "source": [
    "Boolean logic can also be used for selection and iteration within a program, which is what makes it so powerful. This will make sense shortly."
   ]
  },
  {
   "cell_type": "markdown",
   "id": "88eff64e",
   "metadata": {},
   "source": [
    "## Lists and Strings.\n",
    "\n",
    "A list is an ordered group of data. It can be any data. An example is ```[1,2,3,4]```. Which is a list containing 4 elements or members. They are arranged in a specific order and can be thought of as a sequence. Unlike strings, they are mutable, this means elements inside them can be changed. \n",
    "\n",
    "Lists are constructed with ```[]``` and commas seperating each element of the list."
   ]
  },
  {
   "cell_type": "code",
   "execution_count": 20,
   "id": "7e193be7",
   "metadata": {},
   "outputs": [],
   "source": [
    "# Assign a list with the elements 1, 2, 3, and 4 to variable named lst\n"
   ]
  },
  {
   "cell_type": "markdown",
   "id": "9407c139",
   "metadata": {},
   "source": [
    "<details><summary>Click to cheat</summary>\n",
    "\n",
    "  ```python\n",
    "  lst = [1, 2, 3, 4]\n",
    "  ```\n",
    "</details>"
   ]
  },
  {
   "cell_type": "markdown",
   "id": "f3bfb44f",
   "metadata": {},
   "source": [
    "We created a list of integers, but lists can hold any object type."
   ]
  },
  {
   "cell_type": "code",
   "execution_count": null,
   "id": "fa9e9784",
   "metadata": {},
   "outputs": [],
   "source": [
    "# Create a list with an integer, a float, and a string\n"
   ]
  },
  {
   "cell_type": "markdown",
   "id": "94c9ea91",
   "metadata": {},
   "source": [
    "<details><summary>Click to cheat</summary>\n",
    "\n",
    "  ```python\n",
    "  lst = [10, 3.14, \"pi\"]\n",
    "  ```\n",
    "</details>"
   ]
  },
  {
   "cell_type": "markdown",
   "id": "5251c173",
   "metadata": {},
   "source": [
    "Lists, just like strings have acces to the `len()` function to determine their length"
   ]
  },
  {
   "cell_type": "code",
   "execution_count": null,
   "id": "875b7be6",
   "metadata": {},
   "outputs": [],
   "source": [
    "# Find the length of lst\n"
   ]
  },
  {
   "cell_type": "markdown",
   "id": "9bca836d",
   "metadata": {},
   "source": [
    "<details><summary>Click to cheat</summary>\n",
    "\n",
    "  ```python\n",
    "  len(lst)\n",
    "  ```\n",
    "</details>"
   ]
  },
  {
   "cell_type": "markdown",
   "id": "e536afa5",
   "metadata": {},
   "source": [
    "### Indexing and slicing\n",
    "Strings and arrays, as they are both sequences are able to be indexed and sliced.\n",
    "\n",
    "For example to access the first element of a string or a list:"
   ]
  },
  {
   "cell_type": "code",
   "execution_count": null,
   "id": "edbc3e2d",
   "metadata": {},
   "outputs": [],
   "source": [
    "lst = [1, 2, 3, 4]\n",
    "lst[0]"
   ]
  },
  {
   "cell_type": "code",
   "execution_count": null,
   "id": "68dc02e6",
   "metadata": {},
   "outputs": [],
   "source": [
    "string = \"Hello\"\n",
    "print(string[0])"
   ]
  },
  {
   "cell_type": "markdown",
   "id": "f07300fd",
   "metadata": {},
   "source": [
    "Indexing for both lists and strings starts at 0 and ends at the length of the sequence (list or string) - 1"
   ]
  },
  {
   "cell_type": "code",
   "execution_count": 21,
   "id": "106d64ee",
   "metadata": {},
   "outputs": [],
   "source": [
    "# Last letter of Hello\n",
    "\n",
    "print(string[len(string) - 1])\n",
    "\n",
    "# Last element of the list\n",
    "print(lst[len(lst) - 1])"
   ]
  },
  {
   "cell_type": "markdown",
   "id": "515df0c5",
   "metadata": {},
   "source": [
    "Python lets us access the last element by -1."
   ]
  },
  {
   "cell_type": "code",
   "execution_count": 22,
   "id": "f50b6476",
   "metadata": {
    "scrolled": false
   },
   "outputs": [],
   "source": [
    "# print the last letter of string using a negative index\n"
   ]
  },
  {
   "cell_type": "markdown",
   "id": "6b741503",
   "metadata": {},
   "source": [
    "<details><summary>Click to cheat</summary>\n",
    "\n",
    "  ```python\n",
    "  string[-1]\n",
    "  ```\n",
    "</details>"
   ]
  },
  {
   "cell_type": "markdown",
   "id": "3072edde",
   "metadata": {},
   "source": [
    "Following this trend the second last can be grabbed using -2 and so on."
   ]
  },
  {
   "cell_type": "code",
   "execution_count": 23,
   "id": "188fbe81",
   "metadata": {},
   "outputs": [],
   "source": [
    "# Second last letter of string\n",
    "\n",
    "\n",
    "# Third last letter of string\n"
   ]
  },
  {
   "cell_type": "markdown",
   "id": "23647a79",
   "metadata": {},
   "source": [
    "<details><summary>Click to cheat</summary>\n",
    "\n",
    "  ```python\n",
    "  string[-2]\n",
    "  string[-3]\n",
    "  ```\n",
    "</details>"
   ]
  },
  {
   "cell_type": "markdown",
   "id": "f93d3cbc",
   "metadata": {},
   "source": [
    "We can use slicing to grab everything from a certain index. We use `lst[start:end]` or `string[start:end]` to specify a slice. Note that `start` is inclusive and `end` is exclusive, so `lst[0:3]` gets elements 0, 1, and 2, but not 3. By not specifying start or end `0` and `-1` are assumed."
   ]
  },
  {
   "cell_type": "code",
   "execution_count": 24,
   "id": "5cee823b",
   "metadata": {},
   "outputs": [],
   "source": [
    "lst = [1, 2, 3, 4, 5]\n",
    "\n",
    "# Grab index 1 and everything past it\n"
   ]
  },
  {
   "cell_type": "code",
   "execution_count": 25,
   "id": "f95f6266",
   "metadata": {},
   "outputs": [],
   "source": [
    "# Grab everything UP TO index 3\n"
   ]
  },
  {
   "cell_type": "markdown",
   "id": "b7fede46",
   "metadata": {},
   "source": [
    "<details><summary>Click to cheat</summary>\n",
    "\n",
    "  ```python\n",
    "  lst[1:]\n",
    "\n",
    "  lst[:3]\n",
    "  ```\n",
    "</details>"
   ]
  },
  {
   "cell_type": "markdown",
   "id": "411e0476",
   "metadata": {},
   "source": [
    "Slicing works using a `start:stop:step` Where the `start` is the starting index, `stop` is ending index, and the `step` is the increments it takes. If `step` is omitted, 1 is assumed."
   ]
  },
  {
   "cell_type": "code",
   "execution_count": 28,
   "id": "021f737c",
   "metadata": {},
   "outputs": [],
   "source": [
    "# Step only\n",
    "lst[::2]\n",
    "\n",
    "# Start and step\n",
    "lst[2::2]\n",
    "\n",
    "# stop and step\n",
    "lst[:4:2]\n",
    "\n",
    "# Start, stop, and step\n",
    "lst[1:4:3]"
   ]
  },
  {
   "cell_type": "markdown",
   "id": "1096de7f",
   "metadata": {},
   "source": [
    "**Slicing works like this with strings as well as lists.**"
   ]
  },
  {
   "cell_type": "markdown",
   "id": "8d254cad",
   "metadata": {},
   "source": [
    "### Basic List Methods\n",
    "Lists have no fixed size and no fixed type constraint, which make them more flexible than arrays in other languages. \n",
    "\n",
    "There are some more special methods for lists:\n",
    "\n"
   ]
  },
  {
   "cell_type": "code",
   "execution_count": 33,
   "id": "2221aa91",
   "metadata": {},
   "outputs": [],
   "source": [
    "# Create a new list\n",
    "newList = [1, 3, 4]"
   ]
  },
  {
   "cell_type": "markdown",
   "id": "8389ab00",
   "metadata": {},
   "source": [
    "We can use ```append()``` to add an item to the end of a list:"
   ]
  },
  {
   "cell_type": "code",
   "execution_count": 34,
   "id": "d68bd6c1",
   "metadata": {},
   "outputs": [],
   "source": [
    "# Append the string \"append\"\n",
    "\n",
    "\n",
    "# Show the list\n"
   ]
  },
  {
   "cell_type": "markdown",
   "id": "f46a8995",
   "metadata": {},
   "source": [
    "<details><summary>Click to cheat</summary>\n",
    "\n",
    "  ```python\n",
    "  # Append the string \"append\"\n",
    "  newList.append(\"append\")\n",
    "\n",
    "  # Show the list\n",
    "  newList\n",
    "  ```\n",
    "</details>"
   ]
  },
  {
   "cell_type": "markdown",
   "id": "2206e8ee",
   "metadata": {},
   "source": [
    "We can also \"pop off\" an item from the list. By default this would be the last index but it can also be specified."
   ]
  },
  {
   "cell_type": "code",
   "execution_count": 35,
   "id": "2a78cb98",
   "metadata": {},
   "outputs": [],
   "source": [
    "# Pop of the 1 indexed item\n",
    "\n",
    "\n",
    "# Show\n"
   ]
  },
  {
   "cell_type": "markdown",
   "id": "13022950",
   "metadata": {},
   "source": [
    "<details><summary>Click to cheat</summary>\n",
    "\n",
    "  ```python\n",
    "# Pop of the 1 indexed item\n",
    "newList.pop(1)\n",
    "\n",
    "# Show\n",
    "newList\n",
    "  ```\n",
    "</details>"
   ]
  },
  {
   "cell_type": "code",
   "execution_count": 37,
   "id": "87098c3d",
   "metadata": {},
   "outputs": [],
   "source": [
    "# Hence we can assign a variable the value returned from pop()\n",
    "\n",
    "\n",
    "# Show remaining list\n"
   ]
  },
  {
   "cell_type": "markdown",
   "id": "67a44733",
   "metadata": {},
   "source": [
    "<details><summary>Click to cheat</summary>\n",
    "\n",
    "  ```python\n",
    "# Hence we can assign a variable the value returned from pop()\n",
    "poppedItem = newList.pop()\n",
    "\n",
    "# Show remaining list\n",
    "newList\n",
    "  ```\n",
    "</details>"
   ]
  },
  {
   "cell_type": "markdown",
   "id": "cc625c94",
   "metadata": {},
   "source": [
    "We can also add items to a list using the ```extend()``` function, however this is a little different to the ```append()``` function. This difference is shown best when adding a list to another list."
   ]
  },
  {
   "cell_type": "code",
   "execution_count": 39,
   "id": "265db313",
   "metadata": {},
   "outputs": [],
   "source": [
    "# Append the list [1, 2, 3]\n",
    "\n",
    "\n",
    "# Show\n"
   ]
  },
  {
   "cell_type": "markdown",
   "id": "6fc30e3b",
   "metadata": {},
   "source": [
    "<details><summary>Click to cheat</summary>\n",
    "\n",
    "  ```python\n",
    "# Append the list [1, 2, 3]\n",
    "newList.append([1, 2, 3])\n",
    "\n",
    "# Show\n",
    "newList\n",
    "  ```\n",
    "</details>"
   ]
  },
  {
   "cell_type": "markdown",
   "id": "dce27a33",
   "metadata": {},
   "source": [
    "As you can see this makes the next element exactly what the argument to the append function is. This is useful if you want nested lists. However, if you don't you can use the ```extend()``` function."
   ]
  },
  {
   "cell_type": "code",
   "execution_count": 40,
   "id": "f39d5b61",
   "metadata": {},
   "outputs": [],
   "source": [
    "# Extend the list [1, 2, 3]\n",
    "\n",
    "\n",
    "# Show\n"
   ]
  },
  {
   "cell_type": "markdown",
   "id": "45d2ae50",
   "metadata": {},
   "source": [
    "<details><summary>Click to cheat</summary>\n",
    "\n",
    "  ```python\n",
    "# extend the list [1, 2, 3]\n",
    "newList.extend([1, 2, 3])\n",
    "\n",
    "# Show\n",
    "newList\n",
    "  ```\n",
    "</details>"
   ]
  },
  {
   "cell_type": "markdown",
   "id": "2f29a591",
   "metadata": {},
   "source": [
    "As you can see this time it added in new elements for each element of the list we passed to the extend function."
   ]
  },
  {
   "cell_type": "markdown",
   "id": "d1be46c5",
   "metadata": {},
   "source": [
    "### Nesting Lists.\n",
    "\n",
    "As shown above we can nest lists. This allows us to create 2D Lists which are similar to a matrix. You can then access each element in this 2D list using *list[row][column]*. For example:"
   ]
  },
  {
   "cell_type": "code",
   "execution_count": 41,
   "id": "7ce196b1",
   "metadata": {},
   "outputs": [],
   "source": [
    "# Start of by making some lists\n",
    "list1 = [1,2,3]\n",
    "list2 = [4,5,6]\n",
    "list3 = [7,8,9]\n",
    "\n",
    "# Make a list of the three lists for a 2D list\n",
    "list2D = [list1, list2, list3]\n",
    "\n",
    "# Show\n",
    "list2D"
   ]
  },
  {
   "cell_type": "code",
   "execution_count": 44,
   "id": "75cb3d38",
   "metadata": {},
   "outputs": [],
   "source": [
    "# Grab the item from the second row and third column\n"
   ]
  },
  {
   "cell_type": "markdown",
   "id": "24e33489",
   "metadata": {},
   "source": [
    "<details><summary>Click to cheat</summary>\n",
    "\n",
    "  ```python\n",
    "list2D[2][3]\n",
    "  ```\n",
    "</details>"
   ]
  },
  {
   "cell_type": "markdown",
   "id": "72043d7d",
   "metadata": {},
   "source": [
    "## Selection Statements\n",
    "\n",
    "We are able to select which path to go down within our code using logic expressions and selection statements. Selection statements allow us to only execute certain code if a condition is met (is ```True```).\n",
    "\n",
    "These are `if`, `elif`, and `else`.\n",
    "\n",
    "The best way once again to explain these is to show them and what they do."
   ]
  },
  {
   "cell_type": "code",
   "execution_count": 45,
   "id": "948f7a55",
   "metadata": {},
   "outputs": [],
   "source": [
    "# The if statement allows us to execute code only if the statement is true\n",
    "if var1 == 10:\n",
    "    # Any code indented after the above ':' will be executed.\n",
    "    print(\"var1 is 10\")"
   ]
  },
  {
   "cell_type": "markdown",
   "id": "0c5d61f1",
   "metadata": {},
   "source": [
    "We must indent all the code for it to be executed as part of the if statement otherwise we get an error."
   ]
  },
  {
   "cell_type": "code",
   "execution_count": null,
   "id": "bde4795f",
   "metadata": {},
   "outputs": [],
   "source": [
    "if var1 == 12:\n",
    "print('var1 is 12')"
   ]
  },
  {
   "cell_type": "markdown",
   "id": "f6a01bec",
   "metadata": {},
   "source": [
    "If the condition in the if statement is not met we can have code execute through the use of ```else:``` statement."
   ]
  },
  {
   "cell_type": "code",
   "execution_count": null,
   "id": "135c5761",
   "metadata": {},
   "outputs": [],
   "source": [
    "var = int(input(\"Enter a number\"))\n",
    "\n",
    "if var == 12:\n",
    "    print('input is 12')\n",
    "# Write an else statement that prints 'input is not 12'\n"
   ]
  },
  {
   "cell_type": "markdown",
   "id": "88fbb9d7",
   "metadata": {},
   "source": [
    "<details><summary>Click to cheat</summary>\n",
    "\n",
    "  ```python\n",
    "var = int(input(\"Enter a number\"))\n",
    "\n",
    "if var == 12:\n",
    "    print('input is 12')\n",
    "# Write an else statement that prints 'input is not 12'\n",
    "else:\n",
    "    print('input is not 12')\n",
    "  ```\n",
    "</details>"
   ]
  },
  {
   "cell_type": "markdown",
   "id": "bd5bd63c",
   "metadata": {},
   "source": [
    "Lastly, the ```elif```, this one works as an 'else if', hence, it will come after an if and will check another condition, which if true will then execute the code indented."
   ]
  },
  {
   "cell_type": "code",
   "execution_count": null,
   "id": "5b7fc1b2",
   "metadata": {},
   "outputs": [],
   "source": [
    "var = int(input(\"Enter your number: \"))\n",
    "\n",
    "if var == 12:\n",
    "    print('input is 12')\n",
    "# Write an elif statement here for checking if input is 10\n",
    "else:\n",
    "    print('input is not 12 nor 10')\n"
   ]
  },
  {
   "cell_type": "markdown",
   "id": "12ca1ad2",
   "metadata": {},
   "source": [
    "<details><summary>Click to cheat</summary>\n",
    "\n",
    "  ```python\n",
    "var = int(input(\"Enter a number\"))\n",
    "\n",
    "if var == 12:\n",
    "    print('input is 12')\n",
    "# Write an elif statement here for checking if input is 10\n",
    "elif var == 10:\n",
    "    print('input is 10')\n",
    "else:\n",
    "    print('input is not 12')\n",
    "  ```\n",
    "</details>"
   ]
  },
  {
   "cell_type": "markdown",
   "id": "a8b4fc74",
   "metadata": {},
   "source": [
    "Any number of `elif` statements can be used after an `if` statement and before an `else` statement."
   ]
  },
  {
   "cell_type": "code",
   "execution_count": null,
   "id": "efb7ca69",
   "metadata": {},
   "outputs": [],
   "source": [
    "var2 = int(input(\"Enter your number: \"))\n",
    "\n",
    "if var2 == 1:\n",
    "    print('var2 is 1')\n",
    "elif var2 == 2:\n",
    "    print('var2 is 2')\n",
    "elif var2 == 3:\n",
    "    print('var2 is 3')\n",
    "elif var2 == 4:\n",
    "    print('var1 is 4')\n",
    "elif var2 == 5:\n",
    "    print('var2 is 5')\n",
    "else:\n",
    "    print('var2 is ?')"
   ]
  },
  {
   "cell_type": "markdown",
   "id": "70546d21",
   "metadata": {},
   "source": [
    "Selection statements can also be used within other selection statements. These are called nested statements, as they are inside another."
   ]
  },
  {
   "cell_type": "code",
   "execution_count": null,
   "id": "03eb1165",
   "metadata": {},
   "outputs": [],
   "source": [
    "var = int(input(\"Enter your number: \"))\n",
    "\n",
    "if var >= 1:\n",
    "    print('input is positive')\n",
    "    # Write an if statement that checks if var is 1\n"
   ]
  },
  {
   "cell_type": "markdown",
   "id": "30fc2c27",
   "metadata": {},
   "source": [
    "<details><summary>Click to cheat</summary>\n",
    "\n",
    "  ```python\n",
    "var = int(input(\"Enter your number: \"))\n",
    "\n",
    "if var >= 1:\n",
    "    print('input is positive')\n",
    "    # Write an if statement that checks if var is 1\n",
    "    if var == 1:\n",
    "        print('input is 1')\n",
    "  ```\n",
    "</details>"
   ]
  },
  {
   "cell_type": "markdown",
   "id": "30f2fd25",
   "metadata": {},
   "source": [
    "These statements allow for control over how we run our programs. It allows for things to execute only if conditions are met which is very powerful. However, it is important that we think about what conditions we are using and how we are using if statements. The more you use the harder your code will be to follow, so think about the best way to write you code so it works and is easy to read, as you won't be the only one reading your code, or you might forget all about it next time you look at it."
   ]
  },
  {
   "cell_type": "markdown",
   "id": "195819b9",
   "metadata": {},
   "source": [
    "## Iteration \n",
    "\n",
    "Next we will go over how to run the same block of code multiple times. This allows code reuse as it is possible to call the same code multiple times. This is done through loops, where, code will be executed until the loop is exited. There are a few different types of loops. These are ```for``` loops and ```while``` loops. There is also another type of loop which is absent from Python, this is the `do-while` loop. \n",
    "\n",
    "The `for` loop will execute the indented code for each element of a list or other collection. The `while` loop works by executing while a certain conditoin is met. The `do-while` loop is very similar to the `while` loop but will check the condition at the end of the code inside the loop. This means this type of loop will *always* run at least once."
   ]
  },
  {
   "cell_type": "markdown",
   "id": "26695498",
   "metadata": {},
   "source": [
    "### for loops\n",
    "\n",
    "There are a few different ways to use `for` loops, for now I will go over ways without using lists, and will touch back on this once lists are covered.\n",
    "\n",
    "The general format of a `for` loop in Python is:\n",
    "\n",
    "```python\n",
    "for item in object:\n",
    "    # perform operation len(object) many times\n",
    "```\n",
    "\n",
    "or\n",
    "\n",
    "```python\n",
    "for i in range(n):\n",
    "    # perform operation n many times\n",
    "```\n",
    "\n",
    "The name used for the item can be whatever you want it to be, this allows us to increase readability of our code. This item name can then be referenced inside your loop, for example if you wanted to use `if` statements to then perform checks.\n",
    "\n",
    "When using a `range(n)` object, the `for` loop will iterate `n` times, from `0` to `n-1`. The `i` variable will hold these values in ascending order."
   ]
  },
  {
   "cell_type": "code",
   "execution_count": null,
   "id": "00616227",
   "metadata": {},
   "outputs": [],
   "source": [
    "# Write a for loop using a range() object that prints the values 0, 1, 2, ... , 9 in two lines of code\n"
   ]
  },
  {
   "cell_type": "markdown",
   "id": "499e5255",
   "metadata": {},
   "source": [
    "<details><summary>Click to cheat</summary>\n",
    "\n",
    "  ```python\n",
    "# Write a for loop using a range() object that prints the values 0, 1, 2, ... , 9 in two lines of code\n",
    "for i in range(10):\n",
    "    print(i)\n",
    "  ```\n",
    "</details>\n"
   ]
  },
  {
   "cell_type": "markdown",
   "id": "5d89d725",
   "metadata": {},
   "source": [
    "To explain what this code does first the range function will need to be explained. It works by taking a number and returning a list from 0 to that number. i will take on each value inside the list created by range, hence, when we print it in each iteration it will be the repsective number from the list."
   ]
  },
  {
   "cell_type": "markdown",
   "id": "2ca15f06",
   "metadata": {},
   "source": [
    "We can also iterate through an existing list and then i will become each element from the list as shown below. **Note: the variable `i` can be named anything a variable can be named. It is also only accessible from within the `for` loop.**"
   ]
  },
  {
   "cell_type": "code",
   "execution_count": 46,
   "id": "63e6324b",
   "metadata": {},
   "outputs": [],
   "source": [
    "# Create a list of any numbers you want\n",
    "\n",
    "\n",
    "# Use a for loop to print out the values in the list\n"
   ]
  },
  {
   "cell_type": "markdown",
   "id": "60fa635c",
   "metadata": {},
   "source": [
    "<details><summary>Click to cheat</summary>\n",
    "\n",
    "  ```python\n",
    "# Create a list of any numbers you want\n",
    "lst = [10, -5, 20]\n",
    "\n",
    "# Use a for loop to print out the values in the list\n",
    "for item in lst:\n",
    "    print(item)\n",
    "  ```\n",
    "</details>\n"
   ]
  },
  {
   "cell_type": "markdown",
   "id": "3ae0ae38",
   "metadata": {},
   "source": [
    "A lot of the time we will be iterating through a list and doing something with each value:"
   ]
  },
  {
   "cell_type": "code",
   "execution_count": 47,
   "id": "c8ea83ba",
   "metadata": {},
   "outputs": [],
   "source": [
    "# Create a list\n",
    "lst = [1, 2, 3, 4, 5, 6, 7]\n",
    "\n",
    "# Only print the even numbers with a for loop\n"
   ]
  },
  {
   "cell_type": "markdown",
   "id": "d35de40b",
   "metadata": {},
   "source": [
    "<details><summary>Click to see hint</summary>\n",
    "\n",
    "You can use `num % 2 == 0` to check if `num` is even.\n",
    "\n",
    "<details><summary>Click to cheat</summary>\n",
    "\n",
    "  ```python\n",
    "# Create a list of any numbers you want\n",
    "lst = [10, -5, 20]\n",
    "\n",
    "# Only print the even numbers with a for loop\n",
    "for num in lst:\n",
    "    if num % 2 == 0:\n",
    "      print(num)\n",
    "  ```\n",
    "</details>\n",
    "</details>\n"
   ]
  },
  {
   "cell_type": "markdown",
   "id": "8e7fea6e",
   "metadata": {},
   "source": [
    "Another common use of a for loop is to keep a counter on some value. For example, let's create a for loop that sums up the list:"
   ]
  },
  {
   "cell_type": "code",
   "execution_count": 48,
   "id": "4fb61a1a",
   "metadata": {},
   "outputs": [],
   "source": [
    "#Start sum at 0\n",
    "listSum = 0\n",
    "\n",
    "# Add the elements of the list using a for loop\n",
    "\n",
    "\n",
    "print(listSum)"
   ]
  },
  {
   "cell_type": "markdown",
   "id": "b97fa835",
   "metadata": {},
   "source": [
    "<details><summary>Click to cheat</summary>\n",
    "\n",
    "  ```python\n",
    "#Start sum at 0\n",
    "listSum = 0\n",
    "\n",
    "# Add the elements of the list using a for loop\n",
    "for num in lst:\n",
    "    listSum += num\n",
    "\n",
    "print(listSum)\n",
    "  ```\n",
    "</details>"
   ]
  },
  {
   "cell_type": "markdown",
   "id": "f8edc86b",
   "metadata": {},
   "source": [
    "We've used `for` loops with lists, now let's try strings. Remember strings are a sequence so when we iterate through them we will be accessing each character in that string."
   ]
  },
  {
   "cell_type": "code",
   "execution_count": null,
   "id": "9ddfa1bc",
   "metadata": {},
   "outputs": [],
   "source": [
    "# Iterate over a string and print out each character\n"
   ]
  },
  {
   "cell_type": "markdown",
   "id": "e7bf2bcb",
   "metadata": {},
   "source": [
    "<details><summary>Click to cheat</summary>\n",
    "\n",
    "  ```python\n",
    "for char in \"my string\":\n",
    "    print(char)\n",
    "  ```\n",
    "</details>"
   ]
  },
  {
   "cell_type": "markdown",
   "id": "3438a8ca",
   "metadata": {},
   "source": [
    "Sometimes, we want to iterate over both the index of an element and the element itself at the same time. We can do this using the `enumerate()` function, which returns the index first, then the element of the collection."
   ]
  },
  {
   "cell_type": "code",
   "execution_count": null,
   "id": "494203ef",
   "metadata": {},
   "outputs": [],
   "source": [
    "lst = [\"bob\", 12, 3.14, \"snale\"]\n",
    "\n",
    "# Use enumerate() to iterate over the indexes and elements of lst\n"
   ]
  },
  {
   "cell_type": "markdown",
   "id": "cf04bbf5",
   "metadata": {},
   "source": [
    "<details><summary>Click to see hint</summary>\n",
    "\n",
    "`enumerate()` takes in `lst` and returns `i, item`.\n",
    "\n",
    "<details><summary>Click to cheat</summary>\n",
    "\n",
    "  ```python\n",
    "lst = [\"bob\", 12, 3.14, \"snale\"]\n",
    "\n",
    "# Use enumerate() to iterate over the indexes and elements of lst\n",
    "for i, item in enumerate(lst):\n",
    "    print(\"The\", i, \"element is\", item)\n",
    "  ```\n",
    "</details>\n",
    "</details>"
   ]
  },
  {
   "cell_type": "markdown",
   "id": "1282a4e4",
   "metadata": {},
   "source": [
    "Now we have covered lists. But what about multi-dimensional lists, such as the lists in lists we covered earlier? These can also be accessed and used within `for` loops. To access each element of these we require two `for` loops."
   ]
  },
  {
   "cell_type": "code",
   "execution_count": null,
   "id": "726255d5",
   "metadata": {},
   "outputs": [],
   "source": [
    "lst = [[1, 2, 3],\n",
    "       [4, 5, 6],\n",
    "       [7, 8, 9]]\n",
    "\n",
    "# Use an outer for loop to iterate over the rows in lst\n",
    "\n",
    "    # Use an inner for loop to iterate over the numbers in the row\n",
    "\n",
    "        # Print the number\n"
   ]
  },
  {
   "cell_type": "markdown",
   "id": "ba7f0d30",
   "metadata": {},
   "source": [
    "<details><summary>Click to see hint</summary>\n",
    "\n",
    "The outer `for` loop is `for row in lst:`\n",
    "\n",
    "<details><summary>Click to cheat</summary>\n",
    "\n",
    "  ```python\n",
    "lst = [[1, 2, 3],\n",
    "       [4, 5, 6],\n",
    "       [7, 8, 9]]\n",
    "\n",
    "# Use an outer for loop to iterate over the rows in lst\n",
    "for row in lst:\n",
    "    # Use an inner for loop to iterate over the numbers in the row\n",
    "    for num in row:\n",
    "        # Print the number\n",
    "        print(num)\n",
    "  ```\n",
    "</details>\n",
    "</details>"
   ]
  },
  {
   "cell_type": "markdown",
   "id": "619bdd82",
   "metadata": {},
   "source": [
    "This can also be done using the index instead using the `range()` function as shown earlier."
   ]
  },
  {
   "cell_type": "code",
   "execution_count": null,
   "id": "df916bdb",
   "metadata": {},
   "outputs": [],
   "source": [
    "lst2 = [[4, 2, 1],\n",
    "        [0, -3, 4],\n",
    "        [0, 0, 5]]\n",
    "\n",
    "for i in range(len(list2)):\n",
    "    for j in range(len(list2[i])):\n",
    "        print(list2[i][j])"
   ]
  },
  {
   "cell_type": "markdown",
   "id": "f7bff4a6",
   "metadata": {},
   "source": [
    "Notice that `len(lst2) == 3`, and not `9` as each inner list only counts as one element, even if the inner list is empty!\n",
    "\n",
    "If you want to get the number of innermost elements of the list, you can use\n",
    "```python\n",
    "len(lst2) * len(lst2[0])\n",
    "```\n",
    "**Note: This will not always work, only if the lists inside the outter list are all of the same dimension!!! E.g. a list of lists that are 4 elements long.**"
   ]
  },
  {
   "cell_type": "markdown",
   "id": "c0fdd49e",
   "metadata": {},
   "source": [
    "As you can see for loops allow us to write more condensed code as we can perform operations over whole lists without having to repeat code and can instead be written in a loop."
   ]
  },
  {
   "cell_type": "markdown",
   "id": "a330cbfa",
   "metadata": {},
   "source": [
    "### while loops\n",
    "\n",
    "`while` loops also allow us to perform iteration, however in a different way as seen in the `for` loop. A `while` statement will continue to execute a single statement or group of statements as long as a specified condition is true. The general format of a `while` loop is:\n",
    "\n",
    "```python\n",
    "while condition: \n",
    "    # nested code\n",
    "else:\n",
    "    # exit code\n",
    "```\n",
    "\n",
    "This is slightly different to other languages. Now let's go over some examples!"
   ]
  },
  {
   "cell_type": "code",
   "execution_count": null,
   "id": "42664d0a",
   "metadata": {},
   "outputs": [],
   "source": [
    "x = 0\n",
    "\n",
    "while x < 5:\n",
    "    print(\"x is curently:\", x)\n",
    "    print(\"x is still less than 10, adding 1 to x\")\n",
    "    x += 1\n",
    "\n",
    "print(\"Exited the while loop\")"
   ]
  },
  {
   "cell_type": "code",
   "execution_count": null,
   "id": "af2fee34",
   "metadata": {},
   "outputs": [],
   "source": [
    "x = 0\n",
    "\n",
    "while x < 5:\n",
    "    print(\"x is curently:\", x)\n",
    "    print(\"x is still less than 10, adding 1 to x\")\n",
    "    x += 1\n",
    "else:\n",
    "    print(\"All Done!\")"
   ]
  },
  {
   "cell_type": "markdown",
   "id": "6ed3bee7",
   "metadata": {},
   "source": [
    "Now try your own `while` loop:"
   ]
  },
  {
   "cell_type": "code",
   "execution_count": null,
   "id": "56d5f1ea",
   "metadata": {},
   "outputs": [],
   "source": [
    "# Prompt the user to enter a number using input() and save it to a variable\n",
    "\n",
    "# If the number isn't 5, enter the while loop\n",
    "\n",
    "    # Use a print() statement to tell the user they guessed wrong\n",
    "\n",
    "    # Prompt the user for another number\n",
    "\n",
    "# Exit the while loop\n",
    "# Print that the user guessed the correct number\n"
   ]
  },
  {
   "cell_type": "markdown",
   "id": "2590a253",
   "metadata": {},
   "source": [
    "<details><summary>Click to see hint</summary>\n",
    "\n",
    "The `while` loop starts as\n",
    "```python\n",
    "while num != 5:\n",
    "```\n",
    "\n",
    "<details><summary>Click to cheat</summary>\n",
    "\n",
    "  ```python\n",
    "# Prompt the user to enter a number using input() and save it to a variable\n",
    "num = int(input(\"Guess the number: \"))\n",
    "\n",
    "# If the number isn't 5, enter the while loop\n",
    "while num != 5:\n",
    "    # Use a print() statement to tell the user they guessed wrong\n",
    "    print(\"Wrong!\")\n",
    "    # Prompt the user for another number\n",
    "    num = int(input(\"Try again: \"))\n",
    "\n",
    "# Exit the while loop\n",
    "# Print that the user guessed the correct number\n",
    "print(\"Correct!\")\n",
    "  ```\n",
    "</details>\n",
    "</details>"
   ]
  },
  {
   "cell_type": "markdown",
   "id": "9f0f00a7",
   "metadata": {},
   "source": [
    "#### break, continue pass\n",
    "\n",
    "We can use `break`, `continue`, and `pass` statements in our loops to add functionality. However, if done wrong this can lead to very unreadable code and make it very hard to debug. For this reason it will be shown that these exist and how they work but it is recommended that these not be used.\n",
    "\n",
    "```break```: Breaks out of the current closest enclosing loop. \n",
    "\n",
    "```continue```: Goes to the top of the closest enclosing loop. \n",
    "\n",
    "```pass```: Denotes a loop that does nothing when entered\n",
    "\n",
    "An example of these:"
   ]
  },
  {
   "cell_type": "code",
   "execution_count": null,
   "id": "91b271c9",
   "metadata": {},
   "outputs": [],
   "source": [
    "x = 0\n",
    "\n",
    "while x < 5:\n",
    "    if x==2:\n",
    "        x += 1\n",
    "        print(\"continuing!!!\")\n",
    "        continue\n",
    "\n",
    "    print(\"x is currently: \",x)\n",
    "    print(\" x is still less than 10, adding 1 to x\")\n",
    "    x+=1"
   ]
  },
  {
   "cell_type": "markdown",
   "id": "5a55d694",
   "metadata": {},
   "source": [
    "Now try to rewrite the `while` loop above without the `continue` statement."
   ]
  },
  {
   "cell_type": "code",
   "execution_count": null,
   "id": "5a65c943",
   "metadata": {},
   "outputs": [],
   "source": [
    "x = 0\n",
    "\n",
    "while x < 5:\n",
    "    if x==2:\n",
    "        x += 1\n",
    "        print(\"continuing!!!\")\n",
    "        continue\n",
    "\n",
    "    print(\"x is currently: \",x)\n",
    "    print(\" x is still less than 10, adding 1 to x\")\n",
    "    x+=1"
   ]
  },
  {
   "cell_type": "markdown",
   "id": "53a8f736",
   "metadata": {},
   "source": [
    "<details><summary>Click to see hint</summary>\n",
    "\n",
    "Use an `else` statement.\n",
    "\n",
    "<details><summary>Click to cheat</summary>\n",
    "\n",
    "  ```python\n",
    "x = 0\n",
    "\n",
    "while x < 5:\n",
    "    if x==2:\n",
    "        x += 1\n",
    "    else:\n",
    "        print(\"x is currently: \",x)\n",
    "        print(\" x is still less than 10, adding 1 to x\")\n",
    "        x+=1\n",
    "  ```\n",
    "</details>\n",
    "</details>"
   ]
  },
  {
   "cell_type": "code",
   "execution_count": null,
   "id": "d6f3fb16",
   "metadata": {},
   "outputs": [],
   "source": [
    "num = int(input(\"Enter a number: \"))\n",
    "\n",
    "while num < 10\n",
    "    print('Your number is too small\")\n",
    "\n",
    "    if num==3:\n",
    "        print('Forbidden guess!')\n",
    "        break\n",
    "\n",
    "    num = int(input(\"Try again: \"))\n",
    "\n",
    "print(\"Fin\")"
   ]
  },
  {
   "cell_type": "markdown",
   "id": "82187dd8",
   "metadata": {},
   "source": [
    "Try rewritting the above `while` loop without the `break` statement."
   ]
  },
  {
   "cell_type": "code",
   "execution_count": null,
   "id": "5b444252",
   "metadata": {},
   "outputs": [],
   "source": [
    "num = int(input(\"Enter a number: \"))\n",
    "\n",
    "while num < 10\n",
    "    if num==3:\n",
    "        print('Forbidden guess!')\n",
    "        break\n",
    "\n",
    "    print('Your number is too small\")\n",
    "    num = int(input(\"Try again: \"))\n",
    "\n",
    "print(\"Fin\")"
   ]
  },
  {
   "cell_type": "markdown",
   "id": "ffd8ac91",
   "metadata": {},
   "source": [
    "<details><summary>Click to see hint</summary>\n",
    "\n",
    "Use an additional check for the exit condition.\n",
    "\n",
    "<details><summary>Click to cheat</summary>\n",
    "\n",
    "  ```python\n",
    "num = int(input(\"Enter a number: \"))\n",
    "\n",
    "while num < 10 and num != 3:\n",
    "    print('Your number is too small\")\n",
    "    num = int(input(\"Try again: \"))\n",
    "  \n",
    "if num == 3:\n",
    "    print(\"Forbidden!\")\n",
    "\n",
    "print(\"Fin\")\n",
    "  ```\n",
    "</details>\n",
    "</details>"
   ]
  },
  {
   "cell_type": "markdown",
   "id": "82bdc53d",
   "metadata": {},
   "source": [
    "**Note: It is possible to create infinitely running loops with while statements.** Sometimes this is useful for creating an event loop for programs that repeat the same actions over and over again, such as servers."
   ]
  },
  {
   "cell_type": "code",
   "execution_count": 50,
   "id": "433d0967",
   "metadata": {},
   "outputs": [],
   "source": [
    "#DO NOT RUN THIS CODE!!!!\n",
    "print(\"Again...\")\n",
    "while True:\n",
    "    print(\"and again...\")"
   ]
  },
  {
   "cell_type": "markdown",
   "id": "ae2e33dc",
   "metadata": {},
   "source": [
    "## Strech Goal: Calculator app"
   ]
  },
  {
   "cell_type": "markdown",
   "id": "5ed0ab42",
   "metadata": {},
   "source": [
    "With iteration and selection you are now able to create very powerful programs. A simple program you can now make is a calculator. One that will keep looping and asking for numbers and operations until exit is entered. It's entirely up to you want operations you want to include (e.g. addition and subtraction)."
   ]
  },
  {
   "cell_type": "code",
   "execution_count": null,
   "id": "e952b685",
   "metadata": {},
   "outputs": [],
   "source": [
    "# define initial variables\n",
    "op = ''\n",
    "\n",
    "# Use a while loop here\n",
    "\n",
    "    # Get the user's operation and two numbers\n",
    "\n",
    "    # Check that the operation is valid\n",
    "\n",
    "        # Compute and print the result\n",
    "    \n",
    "        # Otherwise, print an error message"
   ]
  },
  {
   "cell_type": "markdown",
   "id": "be8d1d61",
   "metadata": {},
   "source": [
    "<details><summary>Click to see hint</summary>\n",
    "\n",
    "Inside a while loop, get the user to enter an operation and two numbers.\n",
    "\n",
    "If the operation is valid, calculate the results and print it out.\n",
    "\n",
    "<details><summary>Click to cheat</summary>\n",
    "\n",
    "  ```python\n",
    "# define initial variables\n",
    "op = ''\n",
    "\n",
    "while op != 'q':\n",
    "    op = input(\"Enter an operation or 'q' to quit\")\n",
    "\n",
    "    if op != 'q':\n",
    "        num1 = int(input(\"Enter your first number: \"))\n",
    "        num2 = int(input(\"Enter your second number: \"))\n",
    "\n",
    "        if op == '+':\n",
    "            res = num1 + num2\n",
    "        elif op == '-':\n",
    "            res = num1 - num2\n",
    "        elif op == '*' or op == 'x':\n",
    "            res = num1 * num2\n",
    "        elif op == '/':\n",
    "            if num2 != 0:\n",
    "                res = num1 / num2\n",
    "            else:\n",
    "                res = 'divide by zero error'\n",
    "        elif op == '//':\n",
    "            if num2 != 0:\n",
    "                res = num1 // num2\n",
    "            else:\n",
    "                res = 'divide by zero error'\n",
    "        elif op == '**':\n",
    "            res = num1 ** num2\n",
    "        elif op == '%':\n",
    "            if num2 != 0:\n",
    "                res = num1 // num2\n",
    "            else:\n",
    "                res = 'divide by zero error'\n",
    "        else:\n",
    "            res = 'unknown operation'\n",
    "        \n",
    "        print(num1, op, num2, '==', res)\n",
    "  ```\n",
    "</details>\n",
    "</details>"
   ]
  },
  {
   "cell_type": "markdown",
   "id": "91cffdb3",
   "metadata": {},
   "source": [
    "## Functions\n",
    "\n",
    "We have seen how to write simple programs. However, continuing with the idea of code reuse, wouldn't it be nice to have to not repeat similar code. Well, we can do this with the use of functions. These allow us to call the same blocks of code multiple times. We can also pass certain variables into these functions which make them very powerful. This will make sense with some examples."
   ]
  },
  {
   "cell_type": "markdown",
   "id": "1f1c46db",
   "metadata": {},
   "source": [
    "To create a function the keyword ```def``` is used. This allows us to define a function. A function needs a name and may have input parameters. We would write a simple function that takes no inputs as seen below."
   ]
  },
  {
   "cell_type": "code",
   "execution_count": null,
   "id": "75e3b014",
   "metadata": {},
   "outputs": [],
   "source": [
    "def print10():\n",
    "    print(10)"
   ]
  },
  {
   "cell_type": "markdown",
   "id": "b4756d07",
   "metadata": {},
   "source": [
    "We are now able to call this function anywhere are it has been defined. Due to python being an interpreted language (runs it line by line instead of compiling), we need to have the function defined above where we are going to use it. This ensures that python knows that it has been defined.\n",
    "\n",
    "Run the cell below, read the error, then fix it."
   ]
  },
  {
   "cell_type": "code",
   "execution_count": null,
   "id": "3fb396d0",
   "metadata": {},
   "outputs": [],
   "source": [
    "print2()\n",
    "\n",
    "def print2():\n",
    "    print(2)"
   ]
  },
  {
   "cell_type": "markdown",
   "id": "e9d889d0",
   "metadata": {},
   "source": [
    "<details><summary>Click to see hint</summary>\n",
    "\n",
    "Place the function call after the function definition.\n",
    "\n",
    "<details><summary>Click to cheat</summary>\n",
    "\n",
    "  ```python\n",
    "def print2():\n",
    "    print(2)\n",
    "\n",
    "print2()\n",
    "\n",
    "  ```\n",
    "</details>\n",
    "</details>"
   ]
  },
  {
   "cell_type": "markdown",
   "id": "c46f4333",
   "metadata": {},
   "source": [
    "Notice the brackets after the function name, this is how the function is called, it basically just lets python know that it is a function to run not a variable. If we do not include this then the function will not run as shown below. So remember to use the brackets to run functions"
   ]
  },
  {
   "cell_type": "code",
   "execution_count": null,
   "id": "ba67d2fd",
   "metadata": {},
   "outputs": [],
   "source": [
    "print2"
   ]
  },
  {
   "cell_type": "markdown",
   "id": "2ac51732",
   "metadata": {},
   "source": [
    "### Input parameters\n",
    "\n",
    "We are also able to pass values into the function. We define these input parameters inside the brackets in the definiton of the function. This can be seen below where a simple function that finds the area of a circle given its radius:"
   ]
  },
  {
   "cell_type": "code",
   "execution_count": null,
   "id": "ba1ee15d",
   "metadata": {},
   "outputs": [],
   "source": [
    "## Define the function\n",
    "def calcCircleArea(radius):\n",
    "    print(radius * radius * 3.14)\n",
    "\n",
    "## Call the function\n",
    "calcCircleArea(5.0)"
   ]
  },
  {
   "cell_type": "markdown",
   "id": "3a383b32",
   "metadata": {},
   "source": [
    "Notice that the function name starts with a verb, as functions are \"doing\" blocks of code. Variable names should be nouns, as variables represent independent entities, ideas, or objects."
   ]
  },
  {
   "cell_type": "markdown",
   "id": "85867e8b",
   "metadata": {},
   "source": [
    "### Returning values\n",
    "\n",
    "Continuing with the idea of a function that finds a circle's area, we can also have a function that instead of printing the area it returns it. This means we can assign variables to the output of functions as can be seen below."
   ]
  },
  {
   "cell_type": "code",
   "execution_count": null,
   "id": "4b9dd18c",
   "metadata": {},
   "outputs": [],
   "source": [
    "## Define the function\n",
    "def calcCircleArea(radius):\n",
    "    return radius * radius * 3.14\n",
    "\n",
    "## Call the function\n",
    "circleArea = calcCircleArea(5.0)\n"
   ]
  },
  {
   "cell_type": "markdown",
   "id": "f53ab39d",
   "metadata": {},
   "source": [
    "### Print and Return\n",
    "\n",
    "As we can see print and return may seem similar, however all print is doing is displaying a variable or displaying something to the screen. Where return allows us to save it into a variable for later as show in the example above. This is extremely useful for separating your code into blocks that perform calculations and blocks that do user IO. Keeping our code modular like this makes it easy to reuse code later."
   ]
  },
  {
   "cell_type": "markdown",
   "id": "26709565",
   "metadata": {},
   "source": [
    "### More Advanced Functions\n",
    "\n",
    "From here you can now write much more advanced functions to do multiple things. Just remember the purpose of a function is to reduce the amount of times you need to use an operation, so use them instead of having repeated chunks of code."
   ]
  },
  {
   "cell_type": "markdown",
   "id": "f9db004b",
   "metadata": {},
   "source": [
    "### Check For A value In A List\n",
    "\n",
    "An example of a more complicated function is one that will return true if it finds a value in a list. First I will give you some time to come up with an answer then we will go over an incorrect approach before the correct one.\n",
    "\n",
    "The incorrect approach is as follows:"
   ]
  },
  {
   "cell_type": "code",
   "execution_count": null,
   "id": "4e6a9192",
   "metadata": {},
   "outputs": [],
   "source": [
    "# Incorrect\n",
    "def checkForValue(sequence, value):\n",
    "    for element in sequence:\n",
    "        if element != value:\n",
    "            return False\n",
    "        else:\n",
    "            return True"
   ]
  },
  {
   "cell_type": "code",
   "execution_count": null,
   "id": "92da5ada",
   "metadata": {},
   "outputs": [],
   "source": [
    "list1 = [1, 2, 3, 4]\n",
    "value = 2\n",
    "\n",
    "checkForValue(list1, value)"
   ]
  },
  {
   "cell_type": "markdown",
   "id": "4044c715",
   "metadata": {},
   "source": [
    "As we can see the function did not work as we are returning false if the value does not equal the value we are looking for, so in the first loop it will return false. Also notice the multiple returns, this is not the best practise as it reduces the readability of the code. Try to fix the example above in the cell below."
   ]
  },
  {
   "cell_type": "code",
   "execution_count": null,
   "id": "58d135fc",
   "metadata": {},
   "outputs": [],
   "source": [
    "# TODO: fix me!\n",
    "def checkForValue(sequence, value):\n",
    "    for i in sequence:\n",
    "        if i != value:\n",
    "            return False\n",
    "        else:\n",
    "            return True"
   ]
  },
  {
   "cell_type": "markdown",
   "id": "00aafe9e",
   "metadata": {},
   "source": [
    "<details><summary>Click to see hint</summary>\n",
    "\n",
    "You need a boolean variable to keep track of whether the value has been found.\n",
    "\n",
    "<details><summary>Click to cheat</summary>\n",
    "\n",
    "  ```python\n",
    "def checkForValue(sequence, value):\n",
    "    contains = False\n",
    "    \n",
    "    for element in sequence:\n",
    "        if element == value:\n",
    "            contains = True\n",
    "    \n",
    "    return contains\n",
    "  ```\n",
    "</details>\n",
    "</details>"
   ]
  },
  {
   "cell_type": "code",
   "execution_count": null,
   "id": "26f949b9",
   "metadata": {},
   "outputs": [],
   "source": [
    "# Now test your function by running this cell\n",
    "list1 = [1, 2, 3, 4]\n",
    "value1 = 3\n",
    "value2 = 7\n",
    "\n",
    "print(checkForValue(list1, value1))\n",
    "print(checkForValue(list1, value2))"
   ]
  },
  {
   "cell_type": "markdown",
   "id": "e8487641",
   "metadata": {},
   "source": [
    "### Testing functions\n",
    "\n",
    "It is also good practise to write tests for our functions to ensure they have the expected functionality. For a function like this we would just test for each case. We can write a test function list."
   ]
  },
  {
   "cell_type": "code",
   "execution_count": null,
   "id": "a0a73db6",
   "metadata": {},
   "outputs": [],
   "source": [
    "def functionTest():\n",
    "    print(\"Testing function\")\n",
    "\n",
    "    expectedOutputs = [output1, output2]\n",
    "    inputs = [input1, input2]\n",
    "\n",
    "    for i in range(len(inputs)):\n",
    "        print(\"Test \" + i + \" : \")\n",
    "        if function(inputs[i]) == expectedOutputs[i]: \n",
    "            print(\"\\tPassed\")\n",
    "        else:\n",
    "            print(\"\\tFailed\")\n"
   ]
  },
  {
   "cell_type": "markdown",
   "id": "1d5e7da6",
   "metadata": {},
   "source": [
    "For the checkForValue Function we could write the test function as below. However this is just a guide and all we need to do for the test function is test each case of inputs for the function."
   ]
  },
  {
   "cell_type": "code",
   "execution_count": null,
   "id": "721cadc4",
   "metadata": {},
   "outputs": [],
   "source": [
    "# define function\n",
    "def testCheckForValue():\n",
    "    # write definition\n",
    "\n",
    "# run the function\n",
    "testCheckForValue()"
   ]
  },
  {
   "cell_type": "markdown",
   "id": "4addd541",
   "metadata": {},
   "source": [
    "<details><summary>Click to see hint</summary>\n",
    "\n",
    "Copy the generic `functionTest()` above and modify it.\n",
    "\n",
    "<details><summary>Click to cheat</summary>\n",
    "\n",
    "  ```python\n",
    "def testCheckForValue():\n",
    "    print(\"Testing checkForValue\")\n",
    "    \n",
    "    expectedOutputs = [True, False]\n",
    "    inputVal = [1, 7]\n",
    "    inputList = [[1, 2, 3], [1, 2, 3]]\n",
    "    \n",
    "    for i in range(len(inputVal)):\n",
    "        print(\"Test \" + str(i) + \" : \")\n",
    "        \n",
    "        if checkForValue(inputList[i], inputVal[i]) == expectedOutputs[i]:\n",
    "            print(\"\\tPassed.\")\n",
    "        else:\n",
    "            print(\"\\tFailed.\")\n",
    "\n",
    "testCheckForValue()\n",
    "  ```\n",
    "</details>\n",
    "</details>"
   ]
  },
  {
   "cell_type": "markdown",
   "id": "499bdac8",
   "metadata": {},
   "source": [
    "## File IO\n",
    "\n"
   ]
  },
  {
   "cell_type": "markdown",
   "id": "0a3c537a",
   "metadata": {},
   "source": [
    "Although variables are very powerful and allow for us to store data, this data will be lost when the program ends. This is as it is stored in RAM, which will then be written over by other programs. If we want to keep any data from our program to use later or for other purposes we need to write it to files. There are many types of files that can be used and different file formats. We will go over txt files and csv files, as these are a good starting spot and will allow for you to retain data after a programs runtime."
   ]
  },
  {
   "cell_type": "markdown",
   "id": "c5c601db",
   "metadata": {},
   "source": [
    "### Reading\n",
    "\n",
    "To read files in python we first need to open the file. The syntax for this is as follows:\n",
    "\n",
    "```f = open(filename, \"r\")```\n",
    "\n",
    "This gives us a variable called file that we can now refrence in our program. In python there are three main methods for reading a file: ```readline()```, ```readlines()``` and ```read()```\n",
    "\n",
    "```readline()``` : Reads a single line from the file and then returns that line as a string\n",
    "\n",
    "```readlines()``` : Reads all the lines of the file and returns an array of each line, where each line ends with the \\n character\n",
    "\n",
    "```read()``` : Reads the whole file, we can also specify how many bytes to be read. (usually won't use this latter functionality)\n",
    "\n",
    "We also need to close files. This can be done using ```f.close()```"
   ]
  },
  {
   "cell_type": "markdown",
   "id": "0b2cfb9a",
   "metadata": {},
   "source": [
    "Some examples:"
   ]
  },
  {
   "cell_type": "code",
   "execution_count": null,
   "id": "29d769b0",
   "metadata": {},
   "outputs": [],
   "source": [
    "f = open(\"testfile.txt\", \"r\")\n",
    "\n",
    "print(f.readline())\n",
    "print(\"\\n-----\")\n",
    "f.close\n",
    "\n",
    "f = open(\"testfile.txt\", \"r\")\n",
    "print(f.readlines())\n",
    "print(\"\\n-----\")\n",
    "f.close\n",
    "\n",
    "f = open(\"testfile.txt\", \"r\")\n",
    "print(f.read())\n",
    "f.close()"
   ]
  },
  {
   "cell_type": "markdown",
   "id": "b440a510",
   "metadata": {},
   "source": [
    "Instead of having to close the file each time we can make use of the `with` keyword, which will clean up our file for us. This is good practise as even if an exception occurs it will make sure to still close the file. This is demonstrated below:"
   ]
  },
  {
   "cell_type": "code",
   "execution_count": null,
   "id": "0398d7af",
   "metadata": {},
   "outputs": [],
   "source": [
    "with open(\"testfile.txt\", \"r\") as f:\n",
    "    print(f.read())"
   ]
  },
  {
   "cell_type": "markdown",
   "id": "b61a4683",
   "metadata": {},
   "source": [
    "Each subsequent read will move where the text cursor is in the file, so that subsequent reads will continue from that position."
   ]
  },
  {
   "cell_type": "code",
   "execution_count": null,
   "id": "e6391a17",
   "metadata": {},
   "outputs": [],
   "source": [
    "with open(\"testfile.txt\", \"r\") as f:\n",
    "    print(f.readline())\n",
    "    print(\"---\")\n",
    "    print(f.readlines())\n",
    "    print(\"---\")\n",
    "    print(f.read())\n",
    "    print(\"---\")"
   ]
  },
  {
   "cell_type": "markdown",
   "id": "687b4db2",
   "metadata": {},
   "source": [
    "Hence it is possible to use either function to read the whole file, with read we get all the text, with readlines we get it all seperated by each line and with readline we just keep reading until there are no lines left."
   ]
  },
  {
   "cell_type": "markdown",
   "id": "3e5f01e8",
   "metadata": {},
   "source": [
    "We can use a `for` loop to iterate over the lines in a file."
   ]
  },
  {
   "cell_type": "code",
   "execution_count": null,
   "id": "5473f672",
   "metadata": {},
   "outputs": [],
   "source": [
    "# Open the file in a with statement\n",
    "\n",
    "    # Use a for loop\n",
    "\n",
    "        # print the line's contents\n"
   ]
  },
  {
   "cell_type": "markdown",
   "id": "c7a0d220",
   "metadata": {},
   "source": [
    "<details><summary>Click to cheat</summary>\n",
    "\n",
    "  ```python\n",
    "# Open the file in a with statement\n",
    "with open(\"testfile.txt\", \"r\") as f:\n",
    "    # Use a for loop\n",
    "    for line in f:\n",
    "        # print the line's contents\n",
    "        print(line)\n",
    "  ```\n",
    "</details>"
   ]
  },
  {
   "cell_type": "markdown",
   "id": "e5736c94",
   "metadata": {},
   "source": [
    "### Writing\n",
    "\n",
    "When we write to a file we need to open the file in write mode as shown below:\n",
    "\n",
    "```f = open(filename, \"w\")```\n",
    "However, as shown before we can make use of the with keyword and hence, would write it as:\n",
    "\n",
    "```with open(filename, \"w\") as f:```\n",
    "To write string to a file we use the function write. This can be shown below, where we are writing to a new file then reading the content we added to it."
   ]
  },
  {
   "cell_type": "code",
   "execution_count": null,
   "id": "f83a352a",
   "metadata": {},
   "outputs": [],
   "source": [
    "with open(\"test.txt\", \"w\") as f:\n",
    "    f.write(\"THis is the first line\")\n",
    "    f.write(\"hello\")\n",
    "\n",
    "# To check what was written\n",
    "with open(\"test.txt\", \"r\") as f:\n",
    "    print(f.read())\n"
   ]
  },
  {
   "cell_type": "markdown",
   "id": "29cec83d",
   "metadata": {},
   "source": [
    "As we can see, this does not add in the `\\n` after each write. We need to put this in ourselves."
   ]
  },
  {
   "cell_type": "code",
   "execution_count": null,
   "id": "0284a11b",
   "metadata": {},
   "outputs": [],
   "source": [
    "with open(\"test.txt\", \"w\") as f:\n",
    "    f.write(\"This is the first line\\n\")\n",
    "    f.write(\"hello\\n\")\n",
    "\n",
    "# To check what was written\n",
    "with open(\"test.txt\", \"r\") as f:\n",
    "    print(f.read())\n"
   ]
  },
  {
   "cell_type": "markdown",
   "id": "1d40095f",
   "metadata": {},
   "source": [
    "**WARNING:** Whenever we open a file in write mode, if a file already exists with the same filename, it **WILL** be overwritten!"
   ]
  },
  {
   "cell_type": "markdown",
   "id": "0032cab8",
   "metadata": {},
   "source": [
    "### Appending\n",
    "\n",
    "To get around the case where we want to add lines to a file, we have two options. We can read the file first, add the data we want then write it again, or we can open the file in append mode to append to the end of the file. Hence, there is one last mode to learn about for fileIO, the append mode. It is the exact same as before except we use 'a':\n",
    "```\n",
    "open(filename, \"a\")\n",
    "```"
   ]
  },
  {
   "cell_type": "code",
   "execution_count": 1,
   "id": "7af95d09",
   "metadata": {},
   "outputs": [
    {
     "name": "stdout",
     "output_type": "stream",
     "text": [
      "THis is the first line\n",
      "hello\n",
      "This is the lastline\n",
      "\n"
     ]
    }
   ],
   "source": [
    "with open(\"test.txt\", \"a\") as f:\n",
    "    f.write(\"This is the lastline\\n\")\n",
    "\n",
    "# To read the file to see the line above being added at the end\n",
    "with open(\"test.txt\", \"r\") as f:\n",
    "    print(f.read())    "
   ]
  },
  {
   "cell_type": "markdown",
   "id": "d254c1c8",
   "metadata": {},
   "source": [
    "### CSV files\n",
    "\n",
    "A csv file or comma seperated variable file is a file commonly used to store data. It is similar to an excel spreadsheet where all the values are separated into rows and columns. An example of such file is:\n",
    "\n",
    "```\n",
    "day,temperature\n",
    "Monday,26\n",
    "Tuesday,29\n",
    "Wednesday,30\n",
    "```\n",
    "\n",
    "Where all values are separated by commas, with each row being associated to a particular variable.\n",
    "\n"
   ]
  },
  {
   "cell_type": "code",
   "execution_count": 51,
   "id": "38dd9047",
   "metadata": {},
   "outputs": [],
   "source": [
    "## reading a csv file\n",
    "with open('names.csv', 'r') as namesfile:\n",
    "    namesfile = open('names.csv')\n",
    "    linelist = line.split(',')\n",
    "    print(linelist)"
   ]
  },
  {
   "cell_type": "markdown",
   "id": "08e5ab6f",
   "metadata": {},
   "source": [
    "Then to read the whole file we just need to loop through and read each line. Or read all lines then split based on the `\\n`. We can also then pass the data to whatever is required"
   ]
  },
  {
   "cell_type": "code",
   "execution_count": 52,
   "id": "a5c2fd13",
   "metadata": {},
   "outputs": [],
   "source": [
    "## writing a csv file\n",
    "with open('names3.csv', 'w') as newnames:\n",
    "    newline = ','.join(linelist)\n",
    "    newnames.write(newline)\n",
    "\n",
    "# Checking that the file's contents was saved\n",
    "with open('names3.csv', 'r') as newnames:\n",
    "    print(newnames.read())"
   ]
  },
  {
   "cell_type": "markdown",
   "id": "e22ef00a",
   "metadata": {},
   "source": [
    "Now we can apply this to writing and reading much more complex csv files.\n",
    "\n",
    "The task is to parse the data from the weather csv from the BOM. The file is included in the directory. It is the data on weather from march last year where the 1st row is the min temperature of the day and the 2nd row is the max temperature of the day. Hence, there are 31 columns, one for each day of March."
   ]
  },
  {
   "cell_type": "code",
   "execution_count": null,
   "id": "89475611",
   "metadata": {},
   "outputs": [],
   "source": [
    "# Open the file called \"marchweather.csv\"\n",
    "\n",
    "# Get the file's contents and store inside a variable\n",
    "\n",
    "# close the file\n",
    "\n",
    "# print the file's contents"
   ]
  },
  {
   "cell_type": "markdown",
   "id": "b6fd59a4",
   "metadata": {},
   "source": [
    "<details><summary>Click to cheat</summary>\n",
    "\n",
    "  ```python\n",
    "# Open the file called \"marchweather.csv\"\n",
    "with open('marchweather.csv', 'r') as f:\n",
    "    # Get the file's contents and store inside a variable\n",
    "    lines = f.readlines()\n",
    "# close the file\n",
    "\n",
    "# print the file's contents\n",
    "mins = lines[0]\n",
    "maxs = lines[1]\n",
    "\n",
    "print(\"maxs:\", str(maxs) + '\\n')\n",
    "print(\"mins:\", str(mins))\n",
    "  ```\n",
    "</details>"
   ]
  },
  {
   "cell_type": "markdown",
   "id": "340aaacf",
   "metadata": {},
   "source": [
    "## Pandas\n",
    "\n",
    "Python's built in file IO functions provide convenient ways of loading data to and from a file. However, when the data becomes complex, Python's built-in file IO functions become tedious to work with.\n",
    "\n",
    "Thankfully, a third party library called Pandas allows us to easily load, analyse, clean, and save text based data."
   ]
  },
  {
   "cell_type": "markdown",
   "id": "fd61bbbc",
   "metadata": {},
   "source": [
    "First, let's import pandas and load a dataset:"
   ]
  },
  {
   "cell_type": "code",
   "execution_count": 19,
   "id": "9dfdb841",
   "metadata": {},
   "outputs": [],
   "source": [
    "import pandas as pd\n",
    "\n",
    "planets = pd.read_csv('https://raw.githubusercontent.com/mwaskom/seaborn-data/master/planets.csv')"
   ]
  },
  {
   "cell_type": "markdown",
   "id": "2052b55d",
   "metadata": {},
   "source": [
    "While Pandas offers two key data structure: Series and DataFrames. Series are simply 1D sequences of data whereas DataFrames are 2D. Since CSV files are 2D in nature, `pd.read_csv()` returns a DataFrame if successful. We can view key information about our DataFrame using:\n",
    "+ `head()`: view the first few rows of your DataFrame.\n",
    "+ `tail()`: view the last few rows of your DataFrame.\n",
    "+ `columns`: view the columns our DataFrame contains.\n",
    "+ `describe()`: view basic statistical information for each column of your DataFrame.\n",
    "+ `info()`: view basic information about the DataFrame, such as number of rows, number of columns, and number of NaN values."
   ]
  },
  {
   "cell_type": "code",
   "execution_count": null,
   "id": "22046c38",
   "metadata": {},
   "outputs": [],
   "source": [
    "# Let's view the first few rows of our data\n",
    "planets.head(10)"
   ]
  },
  {
   "cell_type": "code",
   "execution_count": null,
   "id": "e8275eb2",
   "metadata": {},
   "outputs": [],
   "source": [
    "# Now let's look at the columns our data is made up on\n",
    "planets.columns"
   ]
  },
  {
   "cell_type": "code",
   "execution_count": null,
   "id": "6588c6a0",
   "metadata": {},
   "outputs": [],
   "source": [
    "# We can also treat the DataFrame as a list by viewing the rows by index\n",
    "planets[50:60]"
   ]
  },
  {
   "cell_type": "code",
   "execution_count": null,
   "id": "74cd73dc",
   "metadata": {},
   "outputs": [],
   "source": [
    "# Let's view the mass column by itself\n",
    "planets['mass']"
   ]
  },
  {
   "cell_type": "code",
   "execution_count": null,
   "id": "3ab9eee1",
   "metadata": {},
   "outputs": [],
   "source": [
    "# Lastly, let's see the planets whose year is 2008\n",
    "planets[planets['year'] == 2008]"
   ]
  },
  {
   "cell_type": "markdown",
   "id": "cab0f384",
   "metadata": {},
   "source": [
    "You may have noticed several values that are `NaN`. This is a special value meaning \"Not a Number\" as in the value is missing or errorenous.\n",
    "\n",
    "We can see just how many `NaN` values are in our dataset with `info()`."
   ]
  },
  {
   "cell_type": "code",
   "execution_count": null,
   "id": "25b70cc6",
   "metadata": {},
   "outputs": [],
   "source": [
    "# info shows us how many rows there are in total and, for each column, how many rows are non-null\n",
    "planets.info()"
   ]
  },
  {
   "cell_type": "code",
   "execution_count": null,
   "id": "bfd656c9",
   "metadata": {},
   "outputs": [],
   "source": [
    "# describe() attempts to calculate basic stats for each column, if possible\n",
    "# Note that NaN values are ignored\n",
    "planets.describe()"
   ]
  },
  {
   "cell_type": "markdown",
   "id": "189747fd",
   "metadata": {},
   "source": [
    "We can count how many `NaN` values there are for each column by summing the `isnull()` output."
   ]
  },
  {
   "cell_type": "code",
   "execution_count": null,
   "id": "4cd75ac1",
   "metadata": {},
   "outputs": [],
   "source": [
    "planets.isnull().sum()"
   ]
  },
  {
   "cell_type": "markdown",
   "id": "d1f525f5",
   "metadata": {},
   "source": [
    "A quick and dirty fix is to simply drop the erroneous rows by using `dropna()`. However, this would mean we would **drop 522 rows!**\n",
    "\n",
    "Sometimes, it's better to replace the `NaN` values with the mean or median to avoid dropping too much data.\n",
    "\n",
    "Let's do an example with the `orbital_peroid` column:"
   ]
  },
  {
   "cell_type": "code",
   "execution_count": null,
   "id": "c0d38f2c",
   "metadata": {},
   "outputs": [],
   "source": [
    "# Get the orbital_period column\n",
    "# notice that this is a Pandas Series\n",
    "orb_period = planets['orbital_period']\n",
    "orb_period.info()"
   ]
  },
  {
   "cell_type": "code",
   "execution_count": null,
   "id": "480fba97",
   "metadata": {},
   "outputs": [],
   "source": [
    "# Calculate the mean\n",
    "mean_orb_period = orb_period.mean()\n",
    "\n",
    "# replace the NaN values with the mean\n",
    "orb_period.fillna(mean_orb_period, inplace=True)"
   ]
  },
  {
   "cell_type": "markdown",
   "id": "2cd73652",
   "metadata": {},
   "source": [
    "By using `inplace=True` we have modified the `planets` DataFrame.\n",
    "\n",
    "Now do the same for the other columns with `NaN` values."
   ]
  },
  {
   "cell_type": "code",
   "execution_count": null,
   "id": "30d4e1b7",
   "metadata": {},
   "outputs": [],
   "source": [
    "# Load the columns\n",
    "\n",
    "# Calculate the means\n",
    "\n",
    "# Replace the NaN values\n"
   ]
  },
  {
   "cell_type": "markdown",
   "id": "55cb9ae2",
   "metadata": {},
   "source": [
    "<details><summary>Click to cheat</summary>\n",
    "\n",
    "```python\n",
    "# Load the columns\n",
    "mass = planets[\"mean\"]\n",
    "distance = planets[\"distance\"]\n",
    "\n",
    "# Calculate the means\n",
    "mass_mean = mass.mean()\n",
    "dist_mean distance.mean()\n",
    "\n",
    "# Replace the NaN values\n",
    "mass.fillna(mass_mean, inplace=True)\n",
    "distance.fillna(dist_mean, inplace=True)\n",
    "```\n",
    "\n",
    "</details>"
   ]
  },
  {
   "cell_type": "markdown",
   "id": "297c22ab",
   "metadata": {},
   "source": [
    "Pandas is an incrediably powerful library that this workshop does not adequetly cover. It is strongly recommended that you visit the offical documentation [here](https://pandas.pydata.org/)."
   ]
  },
  {
   "cell_type": "markdown",
   "id": "63eaddb0",
   "metadata": {},
   "source": [
    "## Plotting\n",
    "\n",
    "In science, engineering and especially machine learning, being able to display our results in an easy to understand way is very important. The most popular python library for this task would be `matplotlib.pyplot`. It allows us to graph our results and display them and save them with minimal code.\n",
    "\n",
    "We start by importing the library"
   ]
  },
  {
   "cell_type": "code",
   "execution_count": 53,
   "id": "5e4f7cfa",
   "metadata": {},
   "outputs": [],
   "source": [
    "# importing the library is done through the import statement\n",
    "import matplotlib.pyplot"
   ]
  },
  {
   "cell_type": "markdown",
   "id": "a940f7d0",
   "metadata": {},
   "source": [
    "Python also allows for alias for imports, so lets import it as plt to simplify its usage later on"
   ]
  },
  {
   "cell_type": "code",
   "execution_count": 54,
   "id": "633b9c92",
   "metadata": {},
   "outputs": [],
   "source": [
    "# importing the library is done through the import statement\n",
    "import matplotlib.pyplot as plt"
   ]
  },
  {
   "cell_type": "markdown",
   "id": "0d9e1366",
   "metadata": {},
   "source": [
    "Now lets generate create a simple plot."
   ]
  },
  {
   "cell_type": "code",
   "execution_count": null,
   "id": "52228e23",
   "metadata": {},
   "outputs": [],
   "source": [
    "plt.plot([1,2,3,4])\n",
    "plt.title('Example plot with only y-values')\n",
    "plt.ylabel('Some data')\n",
    "plt.xlabel('Input values')\n",
    "plt.show()"
   ]
  },
  {
   "cell_type": "markdown",
   "id": "b8c3c29c",
   "metadata": {},
   "source": [
    "As shown above we can plot an array of data using the plot function from the `matplotlib.pyplot` library. We can add an x or y label using ```xlabel()``` or ```ylabel()```. Lastly, to show the plot the ```show()``` function is used."
   ]
  },
  {
   "cell_type": "markdown",
   "id": "3931a76f",
   "metadata": {},
   "source": [
    "When only one array is passed in, it is assumed that the data is for y-values whereas the values 0, 1, 2, ... , n-1 are used for the x-values."
   ]
  },
  {
   "cell_type": "markdown",
   "id": "28f8461f",
   "metadata": {},
   "source": [
    "Now let's plot something more interesting."
   ]
  },
  {
   "cell_type": "code",
   "execution_count": null,
   "id": "211144a3",
   "metadata": {},
   "outputs": [],
   "source": [
    "import matplotlib.pyplot as plt\n",
    "\n",
    "x = [1, 2, 3, 4, 5]\n",
    "y = [5, 6, 2, 1, 9]\n",
    "plt.plot(x, y)\n",
    "plt.title('Some plot of data')\n",
    "plt.show()"
   ]
  },
  {
   "cell_type": "markdown",
   "id": "829213c3",
   "metadata": {},
   "source": [
    "We can also plot with other colours and symbols."
   ]
  },
  {
   "cell_type": "code",
   "execution_count": null,
   "id": "318490c4",
   "metadata": {},
   "outputs": [],
   "source": [
    "import matplotlib.pyplot as plt\n",
    "\n",
    "x = [1, 2, 3, 4, 5]\n",
    "y = [5, 6, 2, 1, 9]\n",
    "plt.plot(x, y, 'ro')\n",
    "plt.title('Some plot of data')\n",
    "plt.show()"
   ]
  },
  {
   "cell_type": "code",
   "execution_count": null,
   "id": "6aaccfcc",
   "metadata": {},
   "outputs": [],
   "source": [
    "import matplotlib.pyplot as plt\n",
    "\n",
    "x = [1, 2, 3, 4, 5]\n",
    "y = [5, 6, 2, 1, 9]\n",
    "plt.plot(x, y, 'g^')\n",
    "plt.title('Some plot of data')\n",
    "plt.show()"
   ]
  },
  {
   "cell_type": "markdown",
   "id": "013ce958",
   "metadata": {},
   "source": [
    "Or plot multiple things on the same plot"
   ]
  },
  {
   "cell_type": "code",
   "execution_count": null,
   "id": "998098cb",
   "metadata": {},
   "outputs": [],
   "source": [
    "import matplotlib.pyplot as plt\n",
    "\n",
    "x = [1, 2, 3, 4, 5]\n",
    "y1 = [5, 6, 2, 1, 9]\n",
    "y2 = [9, 2, 5, 2, 1]\n",
    "y3 = [5, 7, 2, 9 ,1]\n",
    "y4 = [0, 10, 20, 4, 5]\n",
    "plt.plot(x, y1, 'r--', x, y2, 'bs', x, y3, 'g^', x, y4, 'kp')\n",
    "plt.title('Some plot of data')\n",
    "plt.show()"
   ]
  },
  {
   "cell_type": "markdown",
   "id": "b6e0bb8b",
   "metadata": {},
   "source": [
    "You may have noticed some strange looking strings in the `plt.plot()` function calls. These are flags that allow us to change the linestyles, markers, and colours.\n",
    "\n",
    "Some of the other symbols that you can plot with are:\\\n",
    "**linestyles**: `'-'` (solid line), `'--'` (dashed line), `'-.'` (dash-dot), `':'` (dotted line), `'steps'`\\\n",
    "**markers**: `'s'` (square), `'^'` (triangle), `'p'` (pentagon), `'+'` (cross), `'o'` (circle), `','` (pixel), `'.'`, `'1'` (tri-down), `'2'` (tri-up), `'3'` (tri-left), `'4'` (tri-right)\\\n",
    "**colours (short names)**: `'b'`, `'g'`, `'r'`, `'c'`, `'m'`, `'y'`, `'k'`, `'w'`\\\n",
    "**colours(long names)**: `'blue'`, `'green'`, `'red'`, `'cyan'`, `'magneta'`, `'yellow'`, `'black'`, `'white'`\n",
    "\n",
    "Take a look at the graphs above and see how the different linestyles, markers, and colours are being used."
   ]
  },
  {
   "cell_type": "markdown",
   "id": "5e29e28a",
   "metadata": {},
   "source": [
    "More information on the different colours and symbols can be found in the documentation which can be accessed [here](https://matplotlib.org/stable/api/_as_gen/matplotlib.pyplot.html) \n",
    "Reading documentation is very important as a programmer so we must be able to find out what functions we can use when using certain languages or libraries. We can access the python documentation through [here](https://docs.python.org/3/) if we need to look up anything."
   ]
  },
  {
   "cell_type": "markdown",
   "id": "34f2e762",
   "metadata": {},
   "source": [
    "Continuing with plotting, we can also have multiple plots in the same image. This is done through the ```subplot()``` function. It works by rows and columns. This can be explained best with an example."
   ]
  },
  {
   "cell_type": "code",
   "execution_count": null,
   "id": "7b29bcb6",
   "metadata": {},
   "outputs": [],
   "source": [
    "import matplotlib.pyplot as plt\n",
    "\n",
    "plt.figure(1) # To set up the sub plot\n",
    "plt.subplot(221) # This means the plot will have two rows and two colums and this is the first plot of the four\n",
    "plt.plot(x, y1, '--')\n",
    "plt.ylabel('some data')\n",
    "plt.title('A plot of some data')\n",
    "\n",
    "plt.subplot(222) # This is the second plot of the four. The first number is the rows, then columns, then plot in the sequence\n",
    "plt.plot(x, y2, 'ro')\n",
    "\n",
    "plt.subplot(223) # Now the third plot\n",
    "plt.plot(x, y3, 'g^')\n",
    "plt.ylabel('some data')\n",
    "\n",
    "plt.subplot(224) # And finally the fourth\n",
    "plt.plot(x, y4, 'k+')\n",
    "\n",
    "plt.show()"
   ]
  },
  {
   "cell_type": "markdown",
   "id": "f1937249",
   "metadata": {},
   "source": [
    "### Bar charts\n",
    "There are other types of plots that we can use as well such as bar charts. This instead uses ```plt.bar()```. A horizontal barchart can also be done using the ```plt.barh()``` function."
   ]
  },
  {
   "cell_type": "code",
   "execution_count": null,
   "id": "dccc15c2",
   "metadata": {},
   "outputs": [],
   "source": [
    "# Lets create some data from rolling a dice\n",
    "import matplotlib.pyplot as plt\n",
    "import numpy as np\n",
    "\n",
    "rng = np.random.default_rng()\n",
    "rollCounts = rng.integers(2, 10, size=6)\n",
    "\n",
    "plt.title('Dice rolling')\n",
    "plt.xlabel('number')\n",
    "plt.ylabel('count')\n",
    "\n",
    "plt.bar(range(1, 7), rollCounts)\n",
    "plt.show()"
   ]
  },
  {
   "cell_type": "markdown",
   "id": "10adefdc",
   "metadata": {},
   "source": [
    "### Histograms\n",
    "The last type of plot covered today is a histogram, best to show distributions. These are plotted using ```plt.hist()```"
   ]
  },
  {
   "cell_type": "code",
   "execution_count": null,
   "id": "d30b51b6",
   "metadata": {},
   "outputs": [],
   "source": [
    "from numpy.random import normal\n",
    "\n",
    "gaussian_numbers = normal(size=1000)\n",
    "plt.hist(gaussian_numbers)\n",
    "plt.title(\"Gaussian Histogram\")\n",
    "plt.xlabel(\"Value\")\n",
    "plt.ylabel(\"Frequency\")\n",
    "plt.show()"
   ]
  },
  {
   "cell_type": "markdown",
   "id": "b542a149",
   "metadata": {},
   "source": [
    "## Final Stretch Goal\n",
    "\n",
    "Now let's put it all together! See if you can master this final goal. There's lots of ways of doing this so feel free to experiment.\n",
    "\n",
    "Remember what you've learnt: functions, saving data to a file, `for` loops, Pandas DataFrames, and plotting, because you'll need all of them for this task!\n",
    "\n",
    "We're going to play with the penguins dataset, clean the data, save the statistical information to a CSV file, and plot the data on a single plot."
   ]
  },
  {
   "cell_type": "code",
   "execution_count": null,
   "id": "95d7c40f",
   "metadata": {},
   "outputs": [],
   "source": [
    "# import the required libraries\n",
    "import pandas as pd\n",
    "import matplotlib.pyplot as plt\n",
    "\n",
    "# Load the dataset\n",
    "penguins = pd.load_csv('https://raw.githubusercontent.com/mwaskom/seaborn-data/master/penguins.csv')\n",
    "\n",
    "# Do some basic analysis with Pandas and see what needs to be cleaned up\n",
    "\n",
    "\n",
    "# Get the basic statistical info and save it to a CSV file\n",
    "\n",
    "\n",
    "# Plot the cleaned data using subplots\n",
    "# Each plot should have it's on plot type or linestyle, colour, and marker type\n",
    "\n",
    "\n"
   ]
  },
  {
   "cell_type": "markdown",
   "id": "312640e1",
   "metadata": {},
   "source": [
    "Now with everything covered, you may be thinking where can I go from here? If you wish to learn more about python there are tons of resources online, there are also a few other workshops I have written if you wish to view them. They can be found here: https://github.com/Curtin-Machine-Learning-Club/Week-1-Content/tree/master/PythonIntroduction  . If you wish to apply your new skills to machine learning, you're in luck as we will be running machine learning workshops."
   ]
  }
 ],
 "metadata": {
  "kernelspec": {
   "display_name": "Python 3 (ipykernel)",
   "language": "python",
   "name": "python3"
  },
  "language_info": {
   "codemirror_mode": {
    "name": "ipython",
    "version": 3
   },
   "file_extension": ".py",
   "mimetype": "text/x-python",
   "name": "python",
   "nbconvert_exporter": "python",
   "pygments_lexer": "ipython3",
   "version": "3.9.8"
  }
 },
 "nbformat": 4,
 "nbformat_minor": 5
}

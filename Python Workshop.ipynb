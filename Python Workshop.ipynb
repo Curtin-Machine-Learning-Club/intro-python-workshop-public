{
 "cells": [
  {
   "cell_type": "markdown",
   "id": "f4b6627c",
   "metadata": {},
   "source": [
    "# Python Workshop\n",
    "\n",
    "## Overview\n",
    "\n",
    "This workshop will cover the basics of python and put you in a position where you will be able to begin your journey into machine learning. We will be covering:\n",
    "+ basic operators\n",
    "+ variables\n",
    "+ strings\n",
    "+ conditional logic\n",
    "+ lists and strings\n",
    "+ selection\n",
    "+ iteration \n",
    "+ functions\n",
    "+ basic file io\n",
    "+ plotting\n"
   ]
  },
  {
   "cell_type": "markdown",
   "id": "7b9923f2",
   "metadata": {},
   "source": [
    "## Introduction to python\n",
    "\n",
    "Python is an interpreted high level language. An interpreted language is one that will compile and execute line by line, as opposed to a compiled language, in which all code must be compiled first before execution. It has many uses as it is a general purpose language, however, recently has been used a lot for data manipulation and machine learning, due to its ease of use and the powerful libraries that it gives access to. "
   ]
  },
  {
   "cell_type": "markdown",
   "id": "53f43ae8",
   "metadata": {},
   "source": [
    "## Basic Operators\n",
    "\n",
    "Python is very powerful and allows us to do many operations such as mathematic operations. Things such as addition and subtraction, multiplication and division can easily be done using +, -, * and / repsectively."
   ]
  },
  {
   "cell_type": "code",
   "execution_count": 1,
   "id": "21381f73",
   "metadata": {},
   "outputs": [
    {
     "data": {
      "text/plain": [
       "3"
      ]
     },
     "execution_count": 1,
     "metadata": {},
     "output_type": "execute_result"
    }
   ],
   "source": [
    "1 + 2"
   ]
  },
  {
   "cell_type": "code",
   "execution_count": 2,
   "id": "f6a2f4f1",
   "metadata": {},
   "outputs": [
    {
     "data": {
      "text/plain": [
       "1"
      ]
     },
     "execution_count": 2,
     "metadata": {},
     "output_type": "execute_result"
    }
   ],
   "source": [
    "5 - 4"
   ]
  },
  {
   "cell_type": "code",
   "execution_count": 3,
   "id": "12c27a8d",
   "metadata": {},
   "outputs": [
    {
     "data": {
      "text/plain": [
       "10"
      ]
     },
     "execution_count": 3,
     "metadata": {},
     "output_type": "execute_result"
    }
   ],
   "source": [
    "2 * 5"
   ]
  },
  {
   "cell_type": "code",
   "execution_count": 4,
   "id": "4ba8b826",
   "metadata": {},
   "outputs": [
    {
     "data": {
      "text/plain": [
       "5.0"
      ]
     },
     "execution_count": 4,
     "metadata": {},
     "output_type": "execute_result"
    }
   ],
   "source": [
    "10 / 2"
   ]
  },
  {
   "cell_type": "markdown",
   "id": "cedc4d2d",
   "metadata": {},
   "source": [
    "As you can seen within this jupyter environment it will display output for us. However, in a terminal environment you need to use the ```print()``` function. "
   ]
  },
  {
   "cell_type": "code",
   "execution_count": 5,
   "id": "7380c153",
   "metadata": {},
   "outputs": [
    {
     "name": "stdout",
     "output_type": "stream",
     "text": [
      "1\n"
     ]
    }
   ],
   "source": [
    "print(1)"
   ]
  },
  {
   "cell_type": "markdown",
   "id": "dcc9602e",
   "metadata": {},
   "source": [
    "If we want to print text we must first enclose it in \"\" or ''. We must however, be careful as it will match up the '', hence if we want to have text with ' in it it must either be enclosed within \"\", or escaped with \\."
   ]
  },
  {
   "cell_type": "code",
   "execution_count": 6,
   "id": "fbd368e7",
   "metadata": {},
   "outputs": [
    {
     "ename": "SyntaxError",
     "evalue": "invalid syntax (4025099358.py, line 2)",
     "output_type": "error",
     "traceback": [
      "\u001b[0;36m  Input \u001b[0;32mIn [6]\u001b[0;36m\u001b[0m\n\u001b[0;31m    print('No it isn't')\u001b[0m\n\u001b[0m                     ^\u001b[0m\n\u001b[0;31mSyntaxError\u001b[0m\u001b[0;31m:\u001b[0m invalid syntax\n"
     ]
    }
   ],
   "source": [
    "print(\"This isn't so hard is it.\")\n",
    "print('No it isn't')"
   ]
  },
  {
   "cell_type": "markdown",
   "id": "987530b5",
   "metadata": {},
   "source": [
    "Without escapting the second ' it closes the string early resulting in a error. To resolve this we must include the \\ before the '."
   ]
  },
  {
   "cell_type": "code",
   "execution_count": 7,
   "id": "e426ee43",
   "metadata": {},
   "outputs": [
    {
     "name": "stdout",
     "output_type": "stream",
     "text": [
      "No it isn't\n"
     ]
    }
   ],
   "source": [
    "print('No it isn\\'t')"
   ]
  },
  {
   "cell_type": "markdown",
   "id": "698d53b5",
   "metadata": {},
   "source": [
    "You can also print multiple strings in one print statement."
   ]
  },
  {
   "cell_type": "code",
   "execution_count": null,
   "id": "646d75ff",
   "metadata": {},
   "outputs": [],
   "source": [
    "print(\"Hello\", \"world!\")"
   ]
  },
  {
   "cell_type": "markdown",
   "id": "2a7224cd",
   "metadata": {},
   "source": [
    "## More Mathematical Operators\n",
    "\n",
    "Back to the math operations as before, there are still more. We can also use indices as well as floor divison and finding the remainder. These are done with \\**, //, and % respectively. Brackets can also be used for order of operations."
   ]
  },
  {
   "cell_type": "code",
   "execution_count": 8,
   "id": "5370a4be",
   "metadata": {},
   "outputs": [
    {
     "data": {
      "text/plain": [
       "25"
      ]
     },
     "execution_count": 8,
     "metadata": {},
     "output_type": "execute_result"
    }
   ],
   "source": [
    "5**2"
   ]
  },
  {
   "cell_type": "code",
   "execution_count": 9,
   "id": "fc4433f5",
   "metadata": {},
   "outputs": [
    {
     "data": {
      "text/plain": [
       "2"
      ]
     },
     "execution_count": 9,
     "metadata": {},
     "output_type": "execute_result"
    }
   ],
   "source": [
    "5//2"
   ]
  },
  {
   "cell_type": "code",
   "execution_count": 10,
   "id": "01d552b3",
   "metadata": {},
   "outputs": [
    {
     "data": {
      "text/plain": [
       "1"
      ]
     },
     "execution_count": 10,
     "metadata": {},
     "output_type": "execute_result"
    }
   ],
   "source": [
    "5%2"
   ]
  },
  {
   "cell_type": "code",
   "execution_count": 11,
   "id": "5f2783c4",
   "metadata": {},
   "outputs": [
    {
     "data": {
      "text/plain": [
       "70"
      ]
     },
     "execution_count": 11,
     "metadata": {},
     "output_type": "execute_result"
    }
   ],
   "source": [
    "(5+2)*10"
   ]
  },
  {
   "cell_type": "markdown",
   "id": "c5f74df1",
   "metadata": {},
   "source": [
    "## Variables\n",
    "\n",
    "Variables can be thought of as a container for a piece of data, or something that will store something. Variables in python allow for data to be retained for further processing later on. For example, say we want to do a calculation, print out the result and then multiply it by 2 and print out that result we can make use of variables to store the result each time. Variables are assigned using the ```=``` operator. "
   ]
  },
  {
   "cell_type": "code",
   "execution_count": 12,
   "id": "ec6e768e",
   "metadata": {},
   "outputs": [
    {
     "name": "stdout",
     "output_type": "stream",
     "text": [
      "62.0\n",
      "124.0\n"
     ]
    }
   ],
   "source": [
    "variable = 13 + 343 * 2 / 14\n",
    "print(variable)\n",
    "variable_times_two = variable * 2\n",
    "print(variable_times_two)"
   ]
  },
  {
   "cell_type": "markdown",
   "id": "8ba54edf",
   "metadata": {},
   "source": [
    "There are however some rules about what we can name variables:\n",
    "+ A variable name must start with a letter or the underscore character\n",
    "+ A variable name cannot start with a number\n",
    "+ A variable name can only contain alpha-numeric characters and underscores (A-z, 0-9, and _ )\n",
    "+ Variable names are case-sensitive (age, Age and AGE are three different variables)\n",
    "+ Can't be reserved words such as ```for```, ```if```, ```while```, ... etc. As these words have meaning within python"
   ]
  },
  {
   "cell_type": "markdown",
   "id": "8053d688",
   "metadata": {},
   "source": [
    "We also have the ability to comment in our code. It allows for us to explain certain things within our code and helps to imporve the overall readability of our code, which is very important as we want other people and ourselves to easily be able to read code. Most of programming is reading code not writing it."
   ]
  },
  {
   "cell_type": "code",
   "execution_count": 73,
   "id": "54401e0f",
   "metadata": {},
   "outputs": [],
   "source": [
    "#This is a comment"
   ]
  },
  {
   "cell_type": "markdown",
   "id": "eef2c343",
   "metadata": {},
   "source": [
    "As shown we can comment using the ```#``` character. Anything after this will be a comment. We can put this character anywhere and all characters after will be commented, hence, will not run as code."
   ]
  },
  {
   "cell_type": "code",
   "execution_count": 74,
   "id": "dadc7e88",
   "metadata": {},
   "outputs": [],
   "source": [
    "var1 = 10 # we can also comment at the end of a line"
   ]
  },
  {
   "cell_type": "markdown",
   "id": "ab076e27",
   "metadata": {},
   "source": [
    "While comments are useful, they are no substitute for good variable naming! Comments should compliment good naming, not compensate it!"
   ]
  },
  {
   "cell_type": "markdown",
   "id": "433e8249",
   "metadata": {},
   "source": [
    "Try renaming the variables based on the comments then delete the comments."
   ]
  },
  {
   "cell_type": "code",
   "execution_count": 13,
   "id": "142e93ff",
   "metadata": {},
   "outputs": [
    {
     "name": "stdout",
     "output_type": "stream",
     "text": [
      "10.0\n"
     ]
    }
   ],
   "source": [
    "  myIncome = 100\n",
    "  taxRate = 0.1\n",
    "  myTaxes = myIncome * taxRate\n",
    "  print(myTaxes)"
   ]
  },
  {
   "cell_type": "markdown",
   "id": "01fda245",
   "metadata": {},
   "source": [
    "### Types\n",
    "\n",
    "Variables have types. These relate to the type of data. So far we have seen integers, strings (text), and floats. Python has many built in types, some of which we will cover later. Python has loose typing, meaning variables typing is not fixed, for example we can store an integer in a variable then overwrite it with a string.\n",
    "\n",
    "####  Integers\n",
    "There are whole numbers, such as `1`, `12343`, and `1080`.\n",
    "\n",
    "#### Floats\n",
    "There are also numbers however contain a floating point, hence can be seen as decimals, such as `3.14` and `2.18`.\n",
    "\n",
    "#### Strings\n",
    "These are text or any sequence of characters. As these are sequences we can access individual elements within these sequences, however, this will be touched on later. Exampels include `\"Hello World\"`. As stated before to declare something as a string it must be contained in either ```''``` or ```\"\"```"
   ]
  },
  {
   "cell_type": "code",
   "execution_count": 14,
   "id": "d33108c3",
   "metadata": {},
   "outputs": [],
   "source": [
    "# this is an integer\n",
    "var1 = 10\n",
    "\n",
    "# this is a float \n",
    "var2 = 10.0\n",
    "\n",
    "# this is a string\n",
    "var3 = 'hello'"
   ]
  },
  {
   "cell_type": "markdown",
   "id": "4baa79bf",
   "metadata": {},
   "source": [
    "It is also possible to change the type of certain variables such as converting an integer to a string, or a string to an integer. This is done through type casting, which changes the type of a piece of data. The keywords ```int()``` and ```str()``` are used to achieve this."
   ]
  },
  {
   "cell_type": "code",
   "execution_count": 15,
   "id": "33e77ef2",
   "metadata": {},
   "outputs": [
    {
     "data": {
      "text/plain": [
       "10"
      ]
     },
     "execution_count": 15,
     "metadata": {},
     "output_type": "execute_result"
    }
   ],
   "source": [
    "# Convert 10 from a string to an int\n",
    "int(\"10\")"
   ]
  },
  {
   "cell_type": "code",
   "execution_count": 16,
   "id": "49db579a",
   "metadata": {},
   "outputs": [
    {
     "data": {
      "text/plain": [
       "'10'"
      ]
     },
     "execution_count": 16,
     "metadata": {},
     "output_type": "execute_result"
    }
   ],
   "source": [
    "# Convert 10 from int to a string\n",
    "str(10)"
   ]
  },
  {
   "cell_type": "markdown",
   "id": "bf4391e2",
   "metadata": {},
   "source": [
    "<details><summary>Click to cheat</summary>\n",
    "\n",
    "  ```python\n",
    "  # Convert 10 from a string to an int\n",
    "  int(\"10\")\n",
    "  ```\n",
    "  ---\n",
    "  ```python\n",
    "  # Convert 10 from an int to a string\n",
    "  str(10)\n",
    "  ```\n",
    "</details>"
   ]
  },
  {
   "cell_type": "markdown",
   "id": "8e34d4a0",
   "metadata": {},
   "source": [
    "### Strings in-depth\n",
    "\n",
    "\n",
    "As stated earlier jupyter will print things for us if we enter just it within a block. Otherwise we must make use of the ```print()``` function.\n",
    "\n",
    "There also exist special characters that make use of the escape character (`\\`). These are the return character `\\r`, newline character `\\n`, and tab character `\\t`."
   ]
  },
  {
   "cell_type": "code",
   "execution_count": 2,
   "id": "090daefc",
   "metadata": {},
   "outputs": [
    {
     "name": "stdout",
     "output_type": "stream",
     "text": [
      "This \n",
      " represents a new line\n",
      "This \t is a tab\n",
      " is a carriage return\n"
     ]
    }
   ],
   "source": [
    "print(\"This \\n represents a new line\")\n",
    "print(\"This \\t is a tab\")\n",
    "print(\"This \\r is a carriage return\")"
   ]
  },
  {
   "cell_type": "markdown",
   "id": "a1877c89",
   "metadata": {},
   "source": [
    "Once again we can use \\ to \"escape\" special characters such as \\n and also single quotes!"
   ]
  },
  {
   "cell_type": "code",
   "execution_count": 18,
   "id": "a40025b6",
   "metadata": {},
   "outputs": [
    {
     "name": "stdout",
     "output_type": "stream",
     "text": [
      "Now we can print \\n\n",
      "I'm also able to use single quotes now\n"
     ]
    }
   ],
   "source": [
    "# \\ allows us to print special characters including single quotes\n",
    "print(\"Now we can print \\\\n\")\n",
    "print('I\\'m also able to use single quotes now')"
   ]
  },
  {
   "cell_type": "markdown",
   "id": "dc1f202f",
   "metadata": {},
   "source": [
    "The length of a string can be found using the ```len()``` function. This will give us the number of characters in a string, as it counts all the characters, including spaces."
   ]
  },
  {
   "cell_type": "code",
   "execution_count": 19,
   "id": "2dbaedcb",
   "metadata": {},
   "outputs": [
    {
     "data": {
      "text/plain": [
       "46"
      ]
     },
     "execution_count": 19,
     "metadata": {},
     "output_type": "execute_result"
    }
   ],
   "source": [
    "# Find the length of any string you want\n",
    "len(\"This is a very very very very very long string\")"
   ]
  },
  {
   "cell_type": "markdown",
   "id": "933f3802",
   "metadata": {},
   "source": [
    "We can concatenate strings using the ```+``` operator, as it is not just used for addition. For example"
   ]
  },
  {
   "cell_type": "code",
   "execution_count": 20,
   "id": "08541536",
   "metadata": {},
   "outputs": [
    {
     "data": {
      "text/plain": [
       "'HelloWorld'"
      ]
     },
     "execution_count": 20,
     "metadata": {},
     "output_type": "execute_result"
    }
   ],
   "source": [
    "\"Hello\" + \"World\""
   ]
  },
  {
   "cell_type": "markdown",
   "id": "b3cffb8d",
   "metadata": {},
   "source": [
    "This concatenation can also be used with variables that are strings"
   ]
  },
  {
   "cell_type": "code",
   "execution_count": 21,
   "id": "b083acbe",
   "metadata": {},
   "outputs": [
    {
     "data": {
      "text/plain": [
       "'first stringsecond string'"
      ]
     },
     "execution_count": 21,
     "metadata": {},
     "output_type": "execute_result"
    }
   ],
   "source": [
    "# two string variables\n",
    "hello = \"Hello\"\n",
    "world = \"World\"\n",
    "\n",
    "# string concatenation\n",
    "hello + world"
   ]
  },
  {
   "cell_type": "markdown",
   "id": "187933cd",
   "metadata": {},
   "source": [
    "We can also use the `*` operator to repeat a string multiple times. Once again this operator is not just for maths, so be careful operators and what data type they are operating on."
   ]
  },
  {
   "cell_type": "code",
   "execution_count": 3,
   "id": "541a44aa",
   "metadata": {},
   "outputs": [
    {
     "data": {
      "text/plain": [
       "'my stringmy stringmy stringmy string'"
      ]
     },
     "execution_count": 3,
     "metadata": {},
     "output_type": "execute_result"
    }
   ],
   "source": [
    "myString = \"my string\"\n",
    "# Mutliply the string variable by 4\n",
    "myString * 4"
   ]
  },
  {
   "cell_type": "markdown",
   "id": "1b14da52",
   "metadata": {},
   "source": [
    "Notice that spaces are not automatically inserted inbetween concatenated strings."
   ]
  },
  {
   "cell_type": "markdown",
   "id": "382cd32f",
   "metadata": {},
   "source": [
    "It is also possible to take a string from the user to do as you so please. This is done through the function ```input(prompt)``` where `prompt` is a string that prompts the user."
   ]
  },
  {
   "cell_type": "code",
   "execution_count": 23,
   "id": "fdc647af",
   "metadata": {},
   "outputs": [
    {
     "name": "stdout",
     "output_type": "stream",
     "text": [
      "hello\n",
      "hello\n"
     ]
    }
   ],
   "source": [
    "# Use input() to prompt the user to enter their name\n"
   ]
  },
  {
   "cell_type": "markdown",
   "id": "8d4ac89a",
   "metadata": {},
   "source": [
    "## Variables revisitied\n",
    "\n",
    "There are a few more things to mention with variables. They can be reassigned and done so with reference to itself. "
   ]
  },
  {
   "cell_type": "code",
   "execution_count": 26,
   "id": "38334326",
   "metadata": {},
   "outputs": [
    {
     "name": "stdout",
     "output_type": "stream",
     "text": [
      "20\n"
     ]
    }
   ],
   "source": [
    "num = 10\n",
    "num = num + 10\n",
    "print(num)"
   ]
  },
  {
   "cell_type": "markdown",
   "id": "b1119789",
   "metadata": {},
   "source": [
    "This is possible as the right hand side of the expression is evaluated first, before then assigning the result to the variable. This logic can also be simplied using ```+=```. There is also `/=`, `-=`, and `*=`."
   ]
  },
  {
   "cell_type": "code",
   "execution_count": 27,
   "id": "73728628",
   "metadata": {},
   "outputs": [
    {
     "name": "stdout",
     "output_type": "stream",
     "text": [
      "30\n"
     ]
    }
   ],
   "source": [
    "  # Increase num by 10 using +=\n",
    "print(num)"
   ]
  },
  {
   "cell_type": "markdown",
   "id": "37fa445c",
   "metadata": {},
   "source": [
    "### Using type\n",
    "\n",
    "```type()``` allows us to find the type of a variable"
   ]
  },
  {
   "cell_type": "code",
   "execution_count": 28,
   "id": "352d2ee3",
   "metadata": {},
   "outputs": [
    {
     "name": "stdout",
     "output_type": "stream",
     "text": [
      "<class 'int'>\n",
      "<class 'str'>\n",
      "<class 'float'>\n"
     ]
    }
   ],
   "source": [
    "var = 10\n",
    "var2 = '10'\n",
    "var3 = 10.0\n",
    "\n",
    "print(type(var))\n",
    "print(type(var2))\n",
    "print(type(var3))"
   ]
  },
  {
   "cell_type": "markdown",
   "id": "7005452f",
   "metadata": {},
   "source": [
    "## Conditional Logic\n",
    "\n",
    "We are able to execute logic operations as well within python using the boolean type. Booleans can be one of two values ```True``` or ```False```."
   ]
  },
  {
   "cell_type": "code",
   "execution_count": 29,
   "id": "584bca8b",
   "metadata": {},
   "outputs": [
    {
     "name": "stdout",
     "output_type": "stream",
     "text": [
      "<class 'bool'>\n",
      "<class 'bool'>\n"
     ]
    }
   ],
   "source": [
    "true_var = True\n",
    "false_var = False\n",
    "\n",
    "print(type(true_var))\n",
    "print(type(false_var))"
   ]
  },
  {
   "cell_type": "markdown",
   "id": "4586a900",
   "metadata": {},
   "source": [
    "The logic operators we have access too are ```and```, ```or``` and ```not```. These will be best described with examples."
   ]
  },
  {
   "cell_type": "code",
   "execution_count": 1,
   "id": "a0e4be8b",
   "metadata": {},
   "outputs": [
    {
     "name": "stdout",
     "output_type": "stream",
     "text": [
      "True\n",
      "False\n",
      "False\n",
      "False\n",
      "True\n",
      "True\n",
      "True\n",
      "False\n",
      "False\n",
      "True\n"
     ]
    }
   ],
   "source": [
    "# and will only result in True if both sides are True\n",
    "print(\"True and True is\", True and True)\n",
    "print(\"True and False is\", True and False)\n",
    "print(\"False and True is\", False and True)\n",
    "print(\"False and False is\", False and False)\n",
    "\n",
    "# or will result in True if either side is True\n",
    "print(\"True or True is\", True or True)\n",
    "print(\"True or False is\", True or False)\n",
    "print(\"False or True is\", False or True)\n",
    "print(\"False or False is\", False or False)\n",
    "\n",
    "# lastly not with change to the other one eg:\n",
    "print(\"not True is\", not True)\n",
    "print(\"not False is\", not False)"
   ]
  },
  {
   "cell_type": "markdown",
   "id": "143fa04f",
   "metadata": {},
   "source": [
    "These logic operators are very simple, however, when chained together can allow for some really powerful expression and powerful logic. They can also be used with variables as well as the ```==``` operator and ```!=``` which are once again best explained with examples."
   ]
  },
  {
   "cell_type": "code",
   "execution_count": 31,
   "id": "90955af6",
   "metadata": {},
   "outputs": [
    {
     "name": "stdout",
     "output_type": "stream",
     "text": [
      "True\n",
      "False\n",
      "False\n",
      "False\n"
     ]
    }
   ],
   "source": [
    "# using == and !=\n",
    "var1 = 10\n",
    "print(\"var1 == 10: \", var1 == 10)\n",
    "print(\"var1 != 10: \", var1 != 10)\n",
    "print(\"var1 == 12: \", var1 == 12)\n",
    "\n",
    "# we can then chain these expression together\n",
    "print(not (var1 == 10 and var1 != 12))"
   ]
  },
  {
   "cell_type": "markdown",
   "id": "015aeba6",
   "metadata": {},
   "source": [
    "Boolean logic can also be used for selection and iteration within a program, which is what makes it so powerful. This will make sense shortly."
   ]
  },
  {
   "cell_type": "markdown",
   "id": "88eff64e",
   "metadata": {},
   "source": [
    "## Lists and Strings.\n",
    "\n",
    "A list is a group of data. It can be any data. An example is ```[1,2,3,4]```. Which is a list containng 3 pieces of data. They are arranged in a specific order and can be thought of as a sequence. Unlike strings, they are mutable, this means elements inside them can be changed. \n",
    "\n",
    "Lists are constructed with ```[]``` and commas seperating each element of the list."
   ]
  },
  {
   "cell_type": "code",
   "execution_count": 41,
   "id": "7e193be7",
   "metadata": {},
   "outputs": [],
   "source": [
    "# Assign a list to variable named list\n",
    "list = [1,2]"
   ]
  },
  {
   "cell_type": "markdown",
   "id": "f3bfb44f",
   "metadata": {},
   "source": [
    "We created a list of integers, but lists can hold any object type. For example:"
   ]
  },
  {
   "cell_type": "code",
   "execution_count": 42,
   "id": "fa9e9784",
   "metadata": {},
   "outputs": [],
   "source": [
    "list = [\"Hello\", 'a', 2]"
   ]
  },
  {
   "cell_type": "markdown",
   "id": "5251c173",
   "metadata": {},
   "source": [
    "Lists, just like strings have acces to the len() function to determine their length"
   ]
  },
  {
   "cell_type": "code",
   "execution_count": 43,
   "id": "875b7be6",
   "metadata": {},
   "outputs": [
    {
     "data": {
      "text/plain": [
       "3"
      ]
     },
     "execution_count": 43,
     "metadata": {},
     "output_type": "execute_result"
    }
   ],
   "source": [
    "len(list)"
   ]
  },
  {
   "cell_type": "markdown",
   "id": "e536afa5",
   "metadata": {},
   "source": [
    "### Indexing and slicing\n",
    "Strings and arrays, as they are both sequences are able to be indexed and sliced.\n",
    "\n",
    "For example to access the first element of a string or a list:"
   ]
  },
  {
   "cell_type": "code",
   "execution_count": 44,
   "id": "edbc3e2d",
   "metadata": {},
   "outputs": [
    {
     "data": {
      "text/plain": [
       "'Hello'"
      ]
     },
     "execution_count": 44,
     "metadata": {},
     "output_type": "execute_result"
    }
   ],
   "source": [
    "list[0]"
   ]
  },
  {
   "cell_type": "code",
   "execution_count": 45,
   "id": "68dc02e6",
   "metadata": {},
   "outputs": [
    {
     "name": "stdout",
     "output_type": "stream",
     "text": [
      "H\n"
     ]
    }
   ],
   "source": [
    "string = \"Hello\"\n",
    "print(string[0])"
   ]
  },
  {
   "cell_type": "markdown",
   "id": "f07300fd",
   "metadata": {},
   "source": [
    "Indexing for both lists and strings starts at 0 and ends at the length of the sequence (list or string) - 1"
   ]
  },
  {
   "cell_type": "code",
   "execution_count": 46,
   "id": "106d64ee",
   "metadata": {},
   "outputs": [
    {
     "name": "stdout",
     "output_type": "stream",
     "text": [
      "o\n",
      "2\n"
     ]
    }
   ],
   "source": [
    "# Last letter of Hello\n",
    "print(string[len(string) - 1])\n",
    "\n",
    "# Last element of the list\n",
    "print(list[len(list) - 1])"
   ]
  },
  {
   "cell_type": "markdown",
   "id": "515df0c5",
   "metadata": {},
   "source": [
    "However the last element can also be grabbed using -1."
   ]
  },
  {
   "cell_type": "code",
   "execution_count": 48,
   "id": "f50b6476",
   "metadata": {
    "scrolled": false
   },
   "outputs": [
    {
     "name": "stdout",
     "output_type": "stream",
     "text": [
      "o\n"
     ]
    }
   ],
   "source": [
    "# Last letter of Hello\n",
    "print(string[-1])"
   ]
  },
  {
   "cell_type": "markdown",
   "id": "3072edde",
   "metadata": {},
   "source": [
    "Following this trend the second last can be grabbed using -2 and so on."
   ]
  },
  {
   "cell_type": "code",
   "execution_count": 49,
   "id": "188fbe81",
   "metadata": {},
   "outputs": [
    {
     "name": "stdout",
     "output_type": "stream",
     "text": [
      "l\n",
      "l\n"
     ]
    }
   ],
   "source": [
    "# Second last letter of Hello\n",
    "print(string[-2])\n",
    "\n",
    "# Third last letter of Hello\n",
    "print(string[-3])"
   ]
  },
  {
   "cell_type": "markdown",
   "id": "f93d3cbc",
   "metadata": {},
   "source": [
    "We can use slicing to grab everything from a certain index."
   ]
  },
  {
   "cell_type": "code",
   "execution_count": 50,
   "id": "5cee823b",
   "metadata": {},
   "outputs": [
    {
     "name": "stdout",
     "output_type": "stream",
     "text": [
      "[2, 3, 4, 5]\n"
     ]
    }
   ],
   "source": [
    "list = [1, 2, 3 ,4 ,5]\n",
    "\n",
    "# Grab index 1 and everything past it\n",
    "print(list[1:])"
   ]
  },
  {
   "cell_type": "code",
   "execution_count": 51,
   "id": "f95f6266",
   "metadata": {},
   "outputs": [
    {
     "data": {
      "text/plain": [
       "[1, 2, 3]"
      ]
     },
     "execution_count": 51,
     "metadata": {},
     "output_type": "execute_result"
    }
   ],
   "source": [
    "# Grab everything UP TO index 3\n",
    "list[:3]"
   ]
  },
  {
   "cell_type": "markdown",
   "id": "411e0476",
   "metadata": {},
   "source": [
    "Slicing works using a *start:stop:step* Where the start is the starting index, the stop is ending index and the step is the increments it takes. If the start is blank it starts at 0. If the stop is blank it ends at the final index. If the step is blank it goes in increments of 1."
   ]
  },
  {
   "cell_type": "code",
   "execution_count": 52,
   "id": "149f3d84",
   "metadata": {},
   "outputs": [
    {
     "data": {
      "text/plain": [
       "[2, 3, 4, 5]"
      ]
     },
     "execution_count": 52,
     "metadata": {},
     "output_type": "execute_result"
    }
   ],
   "source": [
    "# Start only\n",
    "list[1:]"
   ]
  },
  {
   "cell_type": "code",
   "execution_count": 53,
   "id": "6ddd1f73",
   "metadata": {},
   "outputs": [
    {
     "data": {
      "text/plain": [
       "[1, 2]"
      ]
     },
     "execution_count": 53,
     "metadata": {},
     "output_type": "execute_result"
    }
   ],
   "source": [
    "# Stop only\n",
    "list[:2]"
   ]
  },
  {
   "cell_type": "code",
   "execution_count": 54,
   "id": "021f737c",
   "metadata": {},
   "outputs": [
    {
     "data": {
      "text/plain": [
       "[1, 3, 5]"
      ]
     },
     "execution_count": 54,
     "metadata": {},
     "output_type": "execute_result"
    }
   ],
   "source": [
    "# Step only\n",
    "list[::2]"
   ]
  },
  {
   "cell_type": "code",
   "execution_count": 55,
   "id": "40b825a2",
   "metadata": {},
   "outputs": [
    {
     "data": {
      "text/plain": [
       "[3, 4]"
      ]
     },
     "execution_count": 55,
     "metadata": {},
     "output_type": "execute_result"
    }
   ],
   "source": [
    "# Start and stop\n",
    "list[2:4]"
   ]
  },
  {
   "cell_type": "code",
   "execution_count": 56,
   "id": "9bdf0fa1",
   "metadata": {},
   "outputs": [
    {
     "data": {
      "text/plain": [
       "[3, 5]"
      ]
     },
     "execution_count": 56,
     "metadata": {},
     "output_type": "execute_result"
    }
   ],
   "source": [
    "# Start and step\n",
    "list[2::2]"
   ]
  },
  {
   "cell_type": "code",
   "execution_count": 57,
   "id": "2e677ade",
   "metadata": {},
   "outputs": [
    {
     "data": {
      "text/plain": [
       "[1, 3]"
      ]
     },
     "execution_count": 57,
     "metadata": {},
     "output_type": "execute_result"
    }
   ],
   "source": [
    "# Stop and step\n",
    "list[:4:2]"
   ]
  },
  {
   "cell_type": "code",
   "execution_count": 58,
   "id": "7ded436f",
   "metadata": {},
   "outputs": [
    {
     "data": {
      "text/plain": [
       "[2]"
      ]
     },
     "execution_count": 58,
     "metadata": {},
     "output_type": "execute_result"
    }
   ],
   "source": [
    "# Start stop and step\n",
    "list[1:4:3]"
   ]
  },
  {
   "cell_type": "markdown",
   "id": "1096de7f",
   "metadata": {},
   "source": [
    "**Slicing works like this with strings as well as lists.**"
   ]
  },
  {
   "cell_type": "markdown",
   "id": "8d254cad",
   "metadata": {},
   "source": [
    "### Basic List Methods\n",
    "Lists have no fixed size and no fixed type constraint, which make them more flexible that arrays in other languages. \n",
    "\n",
    "There are some more special methods for lists:\n",
    "\n"
   ]
  },
  {
   "cell_type": "code",
   "execution_count": 59,
   "id": "2221aa91",
   "metadata": {},
   "outputs": [],
   "source": [
    "# Create a new list\n",
    "newList = [1, 3, 4]"
   ]
  },
  {
   "cell_type": "markdown",
   "id": "8389ab00",
   "metadata": {},
   "source": [
    "We can use ```append()``` to add an item to the end of a list:"
   ]
  },
  {
   "cell_type": "code",
   "execution_count": 60,
   "id": "d68bd6c1",
   "metadata": {},
   "outputs": [
    {
     "data": {
      "text/plain": [
       "[1, 3, 4, 'Append']"
      ]
     },
     "execution_count": 60,
     "metadata": {},
     "output_type": "execute_result"
    }
   ],
   "source": [
    "# Append\n",
    "newList.append(\"Append\")\n",
    "\n",
    "# Show\n",
    "newList"
   ]
  },
  {
   "cell_type": "markdown",
   "id": "2206e8ee",
   "metadata": {},
   "source": [
    "We can also \"pop off\" an item from the list. By default this would be the last index but it can also be specified. For example:"
   ]
  },
  {
   "cell_type": "code",
   "execution_count": 61,
   "id": "2a78cb98",
   "metadata": {},
   "outputs": [
    {
     "data": {
      "text/plain": [
       "3"
      ]
     },
     "execution_count": 61,
     "metadata": {},
     "output_type": "execute_result"
    }
   ],
   "source": [
    "# Pop of the 1 indexed item\n",
    "newList.pop(1)"
   ]
  },
  {
   "cell_type": "markdown",
   "id": "f2338dc3",
   "metadata": {},
   "source": [
    "As we can see this method returns the item \"popped off\" and leaves us with the list below."
   ]
  },
  {
   "cell_type": "code",
   "execution_count": 62,
   "id": "0bae45f5",
   "metadata": {},
   "outputs": [
    {
     "data": {
      "text/plain": [
       "[1, 4, 'Append']"
      ]
     },
     "execution_count": 62,
     "metadata": {},
     "output_type": "execute_result"
    }
   ],
   "source": [
    "# Show\n",
    "newList"
   ]
  },
  {
   "cell_type": "code",
   "execution_count": 63,
   "id": "87098c3d",
   "metadata": {},
   "outputs": [
    {
     "data": {
      "text/plain": [
       "'Append'"
      ]
     },
     "execution_count": 63,
     "metadata": {},
     "output_type": "execute_result"
    }
   ],
   "source": [
    "# Hence we can assign a variable the value returned from pop()\n",
    "poppedItem = newList.pop()\n",
    "\n",
    "poppedItem"
   ]
  },
  {
   "cell_type": "code",
   "execution_count": 64,
   "id": "dc85aa4f",
   "metadata": {},
   "outputs": [
    {
     "data": {
      "text/plain": [
       "[1, 4]"
      ]
     },
     "execution_count": 64,
     "metadata": {},
     "output_type": "execute_result"
    }
   ],
   "source": [
    "# Show remaining List\n",
    "newList"
   ]
  },
  {
   "cell_type": "markdown",
   "id": "cc625c94",
   "metadata": {},
   "source": [
    "We can also add items to a list using the ```extend()``` function, however this is a little different to the ```append()``` function. This difference is shown best when adding a list to another list. For example:"
   ]
  },
  {
   "cell_type": "code",
   "execution_count": 66,
   "id": "265db313",
   "metadata": {},
   "outputs": [
    {
     "data": {
      "text/plain": [
       "[1, 4, [3, 4, 5], [3, 4, 5]]"
      ]
     },
     "execution_count": 66,
     "metadata": {},
     "output_type": "execute_result"
    }
   ],
   "source": [
    "# Append\n",
    "newList.append([3, 4,5])\n",
    "\n",
    "# Show\n",
    "newList"
   ]
  },
  {
   "cell_type": "markdown",
   "id": "dce27a33",
   "metadata": {},
   "source": [
    "As you can see this makes the next element exactly what the argument to the append function is. This is useful if you want nested arrays. However, if you don't you can use the ```extend()``` function. For example:"
   ]
  },
  {
   "cell_type": "code",
   "execution_count": 67,
   "id": "f39d5b61",
   "metadata": {},
   "outputs": [
    {
     "data": {
      "text/plain": [
       "[1, 4, [3, 4, 5], [3, 4, 5], 3, 4, 5]"
      ]
     },
     "execution_count": 67,
     "metadata": {},
     "output_type": "execute_result"
    }
   ],
   "source": [
    "# Extend\n",
    "newList.extend([3, 4, 5])\n",
    "\n",
    "# Show\n",
    "newList"
   ]
  },
  {
   "cell_type": "markdown",
   "id": "2f29a591",
   "metadata": {},
   "source": [
    "As you can see this time it added in new elements for each element of the list we passed to the extend function."
   ]
  },
  {
   "cell_type": "markdown",
   "id": "d1be46c5",
   "metadata": {},
   "source": [
    "### Nesting Lists.\n",
    "\n",
    "As shown above we can nest lists. This allows us to create 2D Lists which are similar to a matrix. You can then access each element in this 2D list using *list[row][column]*. For example:"
   ]
  },
  {
   "cell_type": "code",
   "execution_count": 69,
   "id": "7ce196b1",
   "metadata": {},
   "outputs": [],
   "source": [
    "\n",
    "# Start of by making some lists\n",
    "list1 = [1,2,3]\n",
    "list2 = [4,5,6]\n",
    "list3 = [7,8,9]"
   ]
  },
  {
   "cell_type": "code",
   "execution_count": 70,
   "id": "75ded53a",
   "metadata": {},
   "outputs": [],
   "source": [
    "# Make a list of the three lists for a 2D list\n",
    "list2D = [list1, list2, list3]"
   ]
  },
  {
   "cell_type": "code",
   "execution_count": 71,
   "id": "c454af88",
   "metadata": {},
   "outputs": [
    {
     "data": {
      "text/plain": [
       "[[1, 2, 3], [4, 5, 6], [7, 8, 9]]"
      ]
     },
     "execution_count": 71,
     "metadata": {},
     "output_type": "execute_result"
    }
   ],
   "source": [
    "# Show\n",
    "list2D"
   ]
  },
  {
   "cell_type": "code",
   "execution_count": 72,
   "id": "75cb3d38",
   "metadata": {},
   "outputs": [
    {
     "data": {
      "text/plain": [
       "6"
      ]
     },
     "execution_count": 72,
     "metadata": {},
     "output_type": "execute_result"
    }
   ],
   "source": [
    "# Grab the item from the second row and third column\n",
    "list2D[1][2]"
   ]
  },
  {
   "cell_type": "markdown",
   "id": "72043d7d",
   "metadata": {},
   "source": [
    "## Selection Statements\n",
    "\n",
    "We are able to select which path to go down within our code using logic expressions and selection statements. Selection statements allow us to only execute certain code if a condition is met (is ```True```).\n",
    "\n",
    "These are ```if elif else```.\n",
    "\n",
    "The best way once again to explain these is to show them and what they do."
   ]
  },
  {
   "cell_type": "code",
   "execution_count": 32,
   "id": "948f7a55",
   "metadata": {},
   "outputs": [
    {
     "name": "stdout",
     "output_type": "stream",
     "text": [
      "var1 is 10\n"
     ]
    }
   ],
   "source": [
    "# The if statement allows us to execute code only if the statement is true\n",
    "if var1 == 10:\n",
    "    # Any code indented after the above ':' will be executed.\n",
    "    print(\"var1 is 10\")"
   ]
  },
  {
   "cell_type": "markdown",
   "id": "0c5d61f1",
   "metadata": {},
   "source": [
    "We must indent all the code for it to be executed as part of the if statement"
   ]
  },
  {
   "cell_type": "code",
   "execution_count": 33,
   "id": "bde4795f",
   "metadata": {},
   "outputs": [
    {
     "ename": "IndentationError",
     "evalue": "expected an indented block (3449475467.py, line 2)",
     "output_type": "error",
     "traceback": [
      "\u001b[0;36m  Input \u001b[0;32mIn [33]\u001b[0;36m\u001b[0m\n\u001b[0;31m    print('var1 is 12')\u001b[0m\n\u001b[0m    ^\u001b[0m\n\u001b[0;31mIndentationError\u001b[0m\u001b[0;31m:\u001b[0m expected an indented block\n"
     ]
    }
   ],
   "source": [
    "if var1 == 12:\n",
    "print('var1 is 12')"
   ]
  },
  {
   "cell_type": "code",
   "execution_count": 34,
   "id": "13d819fd",
   "metadata": {},
   "outputs": [
    {
     "name": "stdout",
     "output_type": "stream",
     "text": [
      "var1 is 12\n"
     ]
    }
   ],
   "source": [
    "if var1 == 12:\n",
    "    print('hmm')\n",
    "print('var1 is 12')"
   ]
  },
  {
   "cell_type": "markdown",
   "id": "f6a01bec",
   "metadata": {},
   "source": [
    "If the condition in the if statement is not met we can have code execute through the use of ```else:```"
   ]
  },
  {
   "cell_type": "code",
   "execution_count": 35,
   "id": "135c5761",
   "metadata": {},
   "outputs": [
    {
     "name": "stdout",
     "output_type": "stream",
     "text": [
      "var1 is not 12\n"
     ]
    }
   ],
   "source": [
    "if var1 == 12:\n",
    "    print('var1 is 12')\n",
    "else:\n",
    "    print('var1 is not 12')"
   ]
  },
  {
   "cell_type": "markdown",
   "id": "bd5bd63c",
   "metadata": {},
   "source": [
    "Lastly, the ```elif```, this one works as an 'else if', hence, it will come after an if and will check another condition, which if true will then execute the code indented."
   ]
  },
  {
   "cell_type": "code",
   "execution_count": 36,
   "id": "5b7fc1b2",
   "metadata": {},
   "outputs": [
    {
     "name": "stdout",
     "output_type": "stream",
     "text": [
      "var1 is 10\n"
     ]
    }
   ],
   "source": [
    "if var1 == 12:\n",
    "    print('var1 is 12')\n",
    "elif var1 == 10:\n",
    "    print('var1 is 10')\n",
    "else:\n",
    "    print('var1 is not 12')"
   ]
  },
  {
   "cell_type": "markdown",
   "id": "a8b4fc74",
   "metadata": {},
   "source": [
    "Any number of elif statements can be used after an if statement and before an else statement."
   ]
  },
  {
   "cell_type": "code",
   "execution_count": 38,
   "id": "efb7ca69",
   "metadata": {},
   "outputs": [
    {
     "name": "stdout",
     "output_type": "stream",
     "text": [
      "var1 is 4\n"
     ]
    }
   ],
   "source": [
    "var2 = 4\n",
    "\n",
    "if var2 == 1:\n",
    "    print('var2 is 1')\n",
    "elif var2 == 2:\n",
    "    print('var2 is 2')\n",
    "elif var2 == 3:\n",
    "    print('var2 is 3')\n",
    "elif var2 == 4:\n",
    "    print('var1 is 4')\n",
    "elif var2 == 5:\n",
    "    print('var2 is 5')\n",
    "else:\n",
    "    print('var2 is ?')"
   ]
  },
  {
   "cell_type": "markdown",
   "id": "70546d21",
   "metadata": {},
   "source": [
    "Selection statements can also be used within other selection statements. These are called nested statements, as they are inside another."
   ]
  },
  {
   "cell_type": "code",
   "execution_count": 39,
   "id": "03eb1165",
   "metadata": {},
   "outputs": [
    {
     "name": "stdout",
     "output_type": "stream",
     "text": [
      "var2 is 1\n",
      "var1 is 1\n"
     ]
    }
   ],
   "source": [
    "var1 = 1\n",
    "var2 = 1\n",
    "\n",
    "if var2 == 1:\n",
    "    print('var2 is 1')\n",
    "    if var1 == 1:\n",
    "        print('var1 is 1')\n"
   ]
  },
  {
   "cell_type": "markdown",
   "id": "30f2fd25",
   "metadata": {},
   "source": [
    "These statements allow for control over how we run our programs. It allows for things to execute only if conditions are met which is very powerful. However, it is important that we think about what conditions we are using and how we are using if statements. The more you use the harder your code will be to follow, so think about the best way to write you code so it works and is easy to read, as you won't be the only one reading your code, or you might forget all about it next time you look at it."
   ]
  },
  {
   "cell_type": "markdown",
   "id": "195819b9",
   "metadata": {},
   "source": [
    "## Iteration \n",
    "\n",
    "Next we will go over how to run the same block of code multiple times. This allows code reuse as it is possible to call the same code multiple times. This is done through loops, where, code will be executed until the loop is exited. There are a few different types of loops. These are ```for``` ```while```. There is also another type of loop which is present from python, this is the do while loop. \n",
    "\n",
    "The for loop will execute the indented code for each element of a list. The while loop works by executing while a certain conditoin is met. The do while loop is very similar to the while loop but will check the condition at the end of the code inside the loop. This means this type of loop will *always* run atleast one time."
   ]
  },
  {
   "cell_type": "markdown",
   "id": "26695498",
   "metadata": {},
   "source": [
    "### for loops\n",
    "\n",
    "There are a few different ways to use for loops, for now I will go over ways without using lists, and will touch back on this once lists are covered.\n",
    "\n",
    "The general format for a for loop in Python is:\n",
    "\n",
    "```for item in object:\n",
    "    perform operation```\n",
    "\n",
    "The name used for the item can be whatever you want it to be, this allows us to increase readability of our code. This item name can then be referenced inside your loop, for example if you wanted to use if statements to then perform checks.\n",
    "\n",
    "Now to an example:"
   ]
  },
  {
   "cell_type": "code",
   "execution_count": 77,
   "id": "00616227",
   "metadata": {},
   "outputs": [
    {
     "name": "stdout",
     "output_type": "stream",
     "text": [
      "0\n",
      "1\n",
      "2\n",
      "3\n",
      "4\n",
      "5\n",
      "6\n",
      "7\n",
      "8\n",
      "9\n"
     ]
    }
   ],
   "source": [
    "# display each element in the list created by the range function\n",
    "for i in range(10):\n",
    "    print(i)"
   ]
  },
  {
   "cell_type": "markdown",
   "id": "5d89d725",
   "metadata": {},
   "source": [
    "To explain what this code does first the range function will need to be explained. It works by taking a number and returning a list from 0 to that number. i will take on each value inside the list created by range, hence, when we print it in each iteration it will be the repsective number from the list."
   ]
  },
  {
   "cell_type": "markdown",
   "id": "2ca15f06",
   "metadata": {},
   "source": [
    "We can also iterate through an existing list and then i will become each element from the list as shown below. **Note: the variable i can be named anything a variable can be named. It is also only accessible from within the for loop.**"
   ]
  },
  {
   "cell_type": "code",
   "execution_count": 75,
   "id": "63e6324b",
   "metadata": {},
   "outputs": [
    {
     "name": "stdout",
     "output_type": "stream",
     "text": [
      "1\n",
      "20\n",
      "30\n",
      "15\n",
      "16\n"
     ]
    }
   ],
   "source": [
    "# Create a list\n",
    "mylist = [1, 20, 30, 15, 16]\n",
    "\n",
    "for i in mylist:\n",
    "    print(i)"
   ]
  },
  {
   "cell_type": "markdown",
   "id": "3ae0ae38",
   "metadata": {},
   "source": [
    "A lot of the time we will be iterating through a list and doing something with each value:"
   ]
  },
  {
   "cell_type": "code",
   "execution_count": 76,
   "id": "c8ea83ba",
   "metadata": {},
   "outputs": [
    {
     "name": "stdout",
     "output_type": "stream",
     "text": [
      "20\n",
      "30\n",
      "16\n"
     ]
    }
   ],
   "source": [
    "# Create a list\n",
    "mylist = [1, 20, 30, 15, 16]\n",
    "\n",
    "# Only print the even numbers\n",
    "for i in mylist:\n",
    "    if i % 2 == 0:\n",
    "        print(i)"
   ]
  },
  {
   "cell_type": "markdown",
   "id": "8e7fea6e",
   "metadata": {},
   "source": [
    "Another common use of a for loop is to keep a counter on some value. For example, let's create a for loop that sums up the list:"
   ]
  },
  {
   "cell_type": "code",
   "execution_count": 78,
   "id": "4fb61a1a",
   "metadata": {},
   "outputs": [
    {
     "name": "stdout",
     "output_type": "stream",
     "text": [
      "6\n"
     ]
    }
   ],
   "source": [
    "#Start sum at 0\n",
    "listSum = 0\n",
    "\n",
    "for num in list1:\n",
    "    listSum = listSum + num\n",
    "\n",
    "print(listSum)"
   ]
  },
  {
   "cell_type": "markdown",
   "id": "d59aacea",
   "metadata": {},
   "source": [
    "However we can replace the variable = variable + constant with variable += constant. So let's try that:"
   ]
  },
  {
   "cell_type": "code",
   "execution_count": 79,
   "id": "ef814a27",
   "metadata": {},
   "outputs": [
    {
     "name": "stdout",
     "output_type": "stream",
     "text": [
      "6\n"
     ]
    }
   ],
   "source": [
    "#Start sum at 0\n",
    "listSum = 0\n",
    "\n",
    "for num in list1:\n",
    "    listSum += num\n",
    "\n",
    "print(listSum)"
   ]
  },
  {
   "cell_type": "markdown",
   "id": "f8edc86b",
   "metadata": {},
   "source": [
    "We've used for loops with lists, now let's try string. Remember strings are a sequence so when we iterate through them we will be accessing each item in that string."
   ]
  },
  {
   "cell_type": "code",
   "execution_count": 80,
   "id": "9ddfa1bc",
   "metadata": {},
   "outputs": [
    {
     "name": "stdout",
     "output_type": "stream",
     "text": [
      "S\n",
      "o\n",
      "m\n",
      "e\n",
      " \n",
      "s\n",
      "t\n",
      "r\n",
      "i\n",
      "n\n",
      "g\n"
     ]
    }
   ],
   "source": [
    "for letter in \"Some string\":\n",
    "    print(letter)"
   ]
  },
  {
   "cell_type": "markdown",
   "id": "3438a8ca",
   "metadata": {},
   "source": [
    "If we want the list index we can use a counter that counts what iteration we are up to in the for loop or track what index of the list is. We can use the range function. This returns a list to the one less than the value we entered. For example; if we wrote range(3) it would return [0, 1, 2]. This allows the item to have the value of the index of the list. We can use this to access certain indexes of the list:"
   ]
  },
  {
   "cell_type": "code",
   "execution_count": 81,
   "id": "494203ef",
   "metadata": {},
   "outputs": [
    {
     "name": "stdout",
     "output_type": "stream",
     "text": [
      "1\n",
      "2\n",
      "3\n"
     ]
    }
   ],
   "source": [
    "for i in range(len(list1)):\n",
    "    print(list1[i])"
   ]
  },
  {
   "cell_type": "markdown",
   "id": "b2e8b410",
   "metadata": {},
   "source": [
    "As you can see we also used the len function. This allows us to get the length of the list so we can create a list from 0 to its length - 1 allowing us the ability to access each item in the list during its correspronding iteration. Hence, on the 2nd iteration when i = 1 we can access the second item. Remember array indexxing start at 0 so for the first element i would be 0."
   ]
  },
  {
   "cell_type": "markdown",
   "id": "1282a4e4",
   "metadata": {},
   "source": [
    "Now we have covered lists. But what about multi-dimensional lists, such as the lists in lists we covered earler? These can also be accessed and used within for loops. To access each element of these we require two for loops. This can be done as shown below:"
   ]
  },
  {
   "cell_type": "code",
   "execution_count": 82,
   "id": "726255d5",
   "metadata": {},
   "outputs": [
    {
     "name": "stdout",
     "output_type": "stream",
     "text": [
      "1\n",
      "2\n",
      "3\n",
      "4\n",
      "5\n",
      "6\n"
     ]
    }
   ],
   "source": [
    "list2 = [[1,2,3],[4,5,6]]\n",
    "\n",
    "for row in list2:\n",
    "    for val in row:\n",
    "        print(val)"
   ]
  },
  {
   "cell_type": "markdown",
   "id": "619bdd82",
   "metadata": {},
   "source": [
    "This can also be done using the index instead using the range function as shown earlier."
   ]
  },
  {
   "cell_type": "code",
   "execution_count": 83,
   "id": "df916bdb",
   "metadata": {},
   "outputs": [
    {
     "name": "stdout",
     "output_type": "stream",
     "text": [
      "1\n",
      "2\n",
      "3\n",
      "4\n",
      "5\n",
      "6\n"
     ]
    }
   ],
   "source": [
    "for i in range(len(list2)):\n",
    "    for j in range(len(list2[i])):\n",
    "        print(list2[i][j])"
   ]
  },
  {
   "cell_type": "markdown",
   "id": "f7bff4a6",
   "metadata": {},
   "source": [
    "Where you want to access the outter list and get it's length, then get the length of the inner list. **Note: This will not always work, only if the lists inside the outter list are all of the same dimension!!! E.g. a list of lists that are 4 elements long.**"
   ]
  },
  {
   "cell_type": "markdown",
   "id": "c0fdd49e",
   "metadata": {},
   "source": [
    "As you can see for loops allow us to write more condensed code as we can perform operations over whole lists without having to repeat code and can instead be written in a loop. We also have another loop we can use. A while loop."
   ]
  },
  {
   "cell_type": "markdown",
   "id": "a330cbfa",
   "metadata": {},
   "source": [
    "### while loops\n",
    "\n",
    "While loops also allow us to perform iteration, however in a different way as seen in the for loop. A while statement will continue to execute a single statement or group of statements as long as a specified condition is true. The general format of a while loop is:\n",
    "\n",
    "```while condition: \n",
    "    code statements \n",
    "else: \n",
    "    final code statements```\n",
    "\n",
    "This is slightly different to other languages. Now let's go over some examples!"
   ]
  },
  {
   "cell_type": "code",
   "execution_count": 84,
   "id": "42664d0a",
   "metadata": {},
   "outputs": [
    {
     "name": "stdout",
     "output_type": "stream",
     "text": [
      "x is curently: 0\n",
      "x is still less than 10, adding 1 to x\n",
      "x is curently: 1\n",
      "x is still less than 10, adding 1 to x\n",
      "x is curently: 2\n",
      "x is still less than 10, adding 1 to x\n",
      "x is curently: 3\n",
      "x is still less than 10, adding 1 to x\n",
      "x is curently: 4\n",
      "x is still less than 10, adding 1 to x\n"
     ]
    }
   ],
   "source": [
    "x = 0\n",
    "\n",
    "while x<5:\n",
    "    print(\"x is curently:\", x)\n",
    "    print(\"x is still less than 10, adding 1 to x\")\n",
    "    x+=1"
   ]
  },
  {
   "cell_type": "code",
   "execution_count": 85,
   "id": "af2fee34",
   "metadata": {},
   "outputs": [
    {
     "name": "stdout",
     "output_type": "stream",
     "text": [
      "x is curently: 0\n",
      "x is still less than 10, adding 1 to x\n",
      "x is curently: 1\n",
      "x is still less than 10, adding 1 to x\n",
      "x is curently: 2\n",
      "x is still less than 10, adding 1 to x\n",
      "x is curently: 3\n",
      "x is still less than 10, adding 1 to x\n",
      "x is curently: 4\n",
      "x is still less than 10, adding 1 to x\n",
      "All Done!\n"
     ]
    }
   ],
   "source": [
    "x = 0\n",
    "\n",
    "while x<5:\n",
    "    print(\"x is curently:\", x)\n",
    "    print(\"x is still less than 10, adding 1 to x\")\n",
    "    x+=1\n",
    "else:\n",
    "    print(\"All Done!\")"
   ]
  },
  {
   "cell_type": "markdown",
   "id": "9f0f00a7",
   "metadata": {},
   "source": [
    "#### break, continue pass\n",
    "\n",
    "We can use break, continue, and pass statements in our loops to add additional functionality. However, if done wrong this can lead to very unreadable code and make it very hard to debug. For this reason it will be shown that these exist and how they work but it is recommended that these not be used.\n",
    "\n",
    "```break```: Breaks out of the current closest enclosing loop. \n",
    "\n",
    "```continue```: Goes to the top of the closest enclosing loop. \n",
    "\n",
    "```pass```: Does nothing at all\n",
    "\n",
    "An example of these:"
   ]
  },
  {
   "cell_type": "code",
   "execution_count": 86,
   "id": "91b271c9",
   "metadata": {},
   "outputs": [
    {
     "name": "stdout",
     "output_type": "stream",
     "text": [
      "x is currently:  0\n",
      " x is still less than 10, adding 1 to x\n",
      "continuing!!!\n",
      "x is currently:  1\n",
      " x is still less than 10, adding 1 to x\n",
      "x==2\n",
      "x is currently:  2\n",
      " x is still less than 10, adding 1 to x\n",
      "continuing!!!\n",
      "x is currently:  3\n",
      " x is still less than 10, adding 1 to x\n",
      "continuing!!!\n",
      "x is currently:  4\n",
      " x is still less than 10, adding 1 to x\n",
      "continuing!!!\n"
     ]
    }
   ],
   "source": [
    "x = 0\n",
    "\n",
    "while x < 5:\n",
    "    print(\"x is currently: \",x)\n",
    "    print(\" x is still less than 10, adding 1 to x\")\n",
    "    x+=1\n",
    "    if x==2:\n",
    "        print(\"x==2\")\n",
    "    else:\n",
    "        print(\"continuing!!!\")\n",
    "        continue"
   ]
  },
  {
   "cell_type": "code",
   "execution_count": 87,
   "id": "f45f1a1d",
   "metadata": {},
   "outputs": [
    {
     "name": "stdout",
     "output_type": "stream",
     "text": [
      "x is currently:  0\n",
      " x is still less than 10, adding 1 to x\n",
      "continuing...\n",
      "x is currently:  1\n",
      " x is still less than 10, adding 1 to x\n",
      "continuing...\n",
      "x is currently:  2\n",
      " x is still less than 10, adding 1 to x\n",
      "x==3\n"
     ]
    }
   ],
   "source": [
    "x = 0\n",
    "\n",
    "while x < 10:\n",
    "    print('x is currently: ',x)\n",
    "    print(' x is still less than 10, adding 1 to x')\n",
    "    x+=1\n",
    "    if x==3:\n",
    "        print('x==3')\n",
    "        break\n",
    "    else:\n",
    "        print('continuing...')\n",
    "        continue"
   ]
  },
  {
   "cell_type": "markdown",
   "id": "82bdc53d",
   "metadata": {},
   "source": [
    "**Note: It is possible to create infinitely running loops with while statements**"
   ]
  },
  {
   "cell_type": "code",
   "execution_count": null,
   "id": "433d0967",
   "metadata": {},
   "outputs": [],
   "source": [
    "#DO NOT RUN THIS CODE!!!!\n",
    "while True:\n",
    "    printf(\"Repeating forever!!!\")"
   ]
  },
  {
   "cell_type": "markdown",
   "id": "5ed0ab42",
   "metadata": {},
   "source": [
    "With iteration and selection you are now able to create very powerful programs. A simple program you can now make is a calculator. One that will keep looping and asking for numbers and operations until exit is entered. I will leave this to you to come up with an idea for how to do this. You now have some time to attempt this."
   ]
  },
  {
   "cell_type": "code",
   "execution_count": 96,
   "id": "e952b685",
   "metadata": {},
   "outputs": [
    {
     "name": "stdout",
     "output_type": "stream",
     "text": [
      "Enter a number (or x to quit): x\n"
     ]
    }
   ],
   "source": [
    "# define inital variables\n",
    "\n",
    "num1 = 0\n",
    "\n",
    "while num1 != 'x':\n",
    "    num1 = input(\"Enter a number (or x to quit): \")\n",
    "\n",
    "    if num1 != 'x':\n",
    "        \n",
    "        num2 = int(input(\"Enter a second number: \"))\n",
    "        operation = input(\"Enter an operation: \")\n",
    "        \n",
    "        # change type if valid\n",
    "        num1 = int(num1)\n",
    "        if operation == '+':\n",
    "            solution = num1 + num2\n",
    "        elif operation == '-':\n",
    "            solution = num1 - num2\n",
    "        elif operation == '*':\n",
    "            solution = num1 * num2\n",
    "        elif operation == '/':\n",
    "            solution = num1 / num2\n",
    "        else:\n",
    "            solution = 'invalid'\n",
    "            \n",
    "        if solution == 'invalid':\n",
    "            print('Invalid equation. Please enter another.')\n",
    "        else:\n",
    "            print(str(num1), operation, str(num2) , \"=\", str(solution))\n"
   ]
  },
  {
   "cell_type": "markdown",
   "id": "91cffdb3",
   "metadata": {},
   "source": [
    "## Functions\n",
    "\n",
    "We have seen how to write simple programs. However, continuing with the idea of code reuse, wouldn't it be nice to have to not repeat similar code. Well, we can do this with the use of functions. These allow us to call the same blocks of code multiple times. We can also pass certain variables into these functions which make them very powerful. This will make sense with some examples."
   ]
  },
  {
   "cell_type": "markdown",
   "id": "1f1c46db",
   "metadata": {},
   "source": [
    "To create a function the keyword ```def``` is used. This allows us to define a function. A function needs a name and may have input parameters. We would write a simple function that takes no inputs as seen below."
   ]
  },
  {
   "cell_type": "code",
   "execution_count": 103,
   "id": "75e3b014",
   "metadata": {},
   "outputs": [],
   "source": [
    "def print10():\n",
    "    print(10)"
   ]
  },
  {
   "cell_type": "markdown",
   "id": "b4756d07",
   "metadata": {},
   "source": [
    "We are now able to call this function anywhere are it has been defined. Due to python being an interpreted language (runs it line by line instead of compiling), we need to have the function defined above where we are going to use it. This ensures that python knows that it has been defined."
   ]
  },
  {
   "cell_type": "code",
   "execution_count": 104,
   "id": "3fb396d0",
   "metadata": {},
   "outputs": [
    {
     "ename": "NameError",
     "evalue": "name 'print2' is not defined",
     "output_type": "error",
     "traceback": [
      "\u001b[0;31m---------------------------------------------------------------------------\u001b[0m",
      "\u001b[0;31mNameError\u001b[0m                                 Traceback (most recent call last)",
      "Input \u001b[0;32mIn [104]\u001b[0m, in \u001b[0;36m<module>\u001b[0;34m\u001b[0m\n\u001b[0;32m----> 1\u001b[0m \u001b[43mprint2\u001b[49m()\n\u001b[1;32m      3\u001b[0m \u001b[38;5;28;01mdef\u001b[39;00m \u001b[38;5;21mprint2\u001b[39m():\n\u001b[1;32m      4\u001b[0m     \u001b[38;5;28mprint\u001b[39m(\u001b[38;5;241m2\u001b[39m)\n",
      "\u001b[0;31mNameError\u001b[0m: name 'print2' is not defined"
     ]
    }
   ],
   "source": [
    "print2()\n",
    "\n",
    "def print2():\n",
    "    print(2)"
   ]
  },
  {
   "cell_type": "markdown",
   "id": "bd7ecf82",
   "metadata": {},
   "source": [
    "We see that we encounter an error as the function is not defined before we call it. Below we can now call this function to print the number 10"
   ]
  },
  {
   "cell_type": "code",
   "execution_count": 105,
   "id": "f498dc79",
   "metadata": {},
   "outputs": [
    {
     "name": "stdout",
     "output_type": "stream",
     "text": [
      "10\n"
     ]
    }
   ],
   "source": [
    "# calling our newly created function\n",
    "print10()"
   ]
  },
  {
   "cell_type": "markdown",
   "id": "c46f4333",
   "metadata": {},
   "source": [
    "Notice the brackets after the function name, this is how the function is called, it basically just lets python know that it is a function to run not a variable. If we do not include this then the function will not run as shown below. So remember to use the brackets to run functions"
   ]
  },
  {
   "cell_type": "code",
   "execution_count": 106,
   "id": "ba67d2fd",
   "metadata": {},
   "outputs": [
    {
     "data": {
      "text/plain": [
       "<function __main__.print10()>"
      ]
     },
     "execution_count": 106,
     "metadata": {},
     "output_type": "execute_result"
    }
   ],
   "source": [
    "print10"
   ]
  },
  {
   "cell_type": "markdown",
   "id": "2ac51732",
   "metadata": {},
   "source": [
    "### Input parameters\n",
    "\n",
    "We are also able to pass values into the function as I stated before. We define these input parameters inside the brackets in the definiton of the function. This can be seen below where a simple function that adds its two inputs and prints the sum has been written."
   ]
  },
  {
   "cell_type": "code",
   "execution_count": 107,
   "id": "ba1ee15d",
   "metadata": {},
   "outputs": [
    {
     "name": "stdout",
     "output_type": "stream",
     "text": [
      "3\n"
     ]
    }
   ],
   "source": [
    "## Define the function\n",
    "def addTwoNumbers(num1, num2):\n",
    "    print (str(num1 + num2))\n",
    "\n",
    "## Call the function\n",
    "addTwoNumbers(1, 2)"
   ]
  },
  {
   "cell_type": "markdown",
   "id": "85867e8b",
   "metadata": {},
   "source": [
    "### Returning values\n",
    "\n",
    "Continuing with the idea of a funciton that adds two numbers, we can also have a function that instead of printing the number returns it. This means we can assign variables to the output of functions as can be seen below."
   ]
  },
  {
   "cell_type": "code",
   "execution_count": 108,
   "id": "4b9dd18c",
   "metadata": {},
   "outputs": [
    {
     "name": "stdout",
     "output_type": "stream",
     "text": [
      "6\n"
     ]
    }
   ],
   "source": [
    "# Define the Fuction\n",
    "def addTwoNumbers(num1, num2):\n",
    "    return num1 + num2\n",
    "\n",
    "## Assign a variable to the functions output\n",
    "num = addTwoNumbers(1, 2)\n",
    "\n",
    "# Multiply value by 2 then print it\n",
    "num *= 2\n",
    "print(num)"
   ]
  },
  {
   "cell_type": "markdown",
   "id": "f53ab39d",
   "metadata": {},
   "source": [
    "### Print and Return\n",
    "\n",
    "As we can see print and return may seem similar, however all print is doing is displaying a variable or displaying something to the screen. Where return allows us to save it into a variable for later as show in the example above."
   ]
  },
  {
   "cell_type": "markdown",
   "id": "26709565",
   "metadata": {},
   "source": [
    "### More Advanced Functions\n",
    "\n",
    "From here you can now write much more advanced functions to do multiple things. Just remember the purpose of a function is to reduce the amount of times you need to use an operation, so use them instead of having repeated chunks of code."
   ]
  },
  {
   "cell_type": "markdown",
   "id": "f9db004b",
   "metadata": {},
   "source": [
    "### Check For A value In A List\n",
    "\n",
    "An example of a more complicated function is one that will return true if it finds a value in a list. First I will give you some time to come up with an answer then we will go over an incorrect approach before the correct one.\n",
    "\n",
    "The incorrect approach is as follows:"
   ]
  },
  {
   "cell_type": "code",
   "execution_count": 110,
   "id": "4e6a9192",
   "metadata": {},
   "outputs": [],
   "source": [
    "# Incorrect\n",
    "def checkForValue(sequence, value):\n",
    "    for i in sequence:\n",
    "        if i != value:\n",
    "            return False\n",
    "        else:\n",
    "            return True"
   ]
  },
  {
   "cell_type": "code",
   "execution_count": 111,
   "id": "92da5ada",
   "metadata": {},
   "outputs": [
    {
     "data": {
      "text/plain": [
       "False"
      ]
     },
     "execution_count": 111,
     "metadata": {},
     "output_type": "execute_result"
    }
   ],
   "source": [
    "list1 = [1, 2, 3, 4]\n",
    "value = 2\n",
    "\n",
    "checkForValue(list1, value)"
   ]
  },
  {
   "cell_type": "markdown",
   "id": "4044c715",
   "metadata": {},
   "source": [
    "As we can see the function did not work as we are returning false if the value does not equal the value we are looking for, so in the first loop it will return false. Also notice the multiple returns, this is not the best practise as it reduces the readability of the code. A better example of this function is below"
   ]
  },
  {
   "cell_type": "code",
   "execution_count": 112,
   "id": "58d135fc",
   "metadata": {},
   "outputs": [],
   "source": [
    "def checkForValue(sequence, value):\n",
    "    contains = False\n",
    "    \n",
    "    for i in sequence:\n",
    "        if i == value:\n",
    "            contains = True\n",
    "    \n",
    "    return contains"
   ]
  },
  {
   "cell_type": "code",
   "execution_count": 113,
   "id": "26f949b9",
   "metadata": {},
   "outputs": [
    {
     "name": "stdout",
     "output_type": "stream",
     "text": [
      "True\n",
      "False\n"
     ]
    }
   ],
   "source": [
    "list1 = [1, 2, 3, 4]\n",
    "value1 = 2\n",
    "value2 = 7\n",
    "\n",
    "print(checkForValue(list1, value1))\n",
    "print(checkForValue(list1, value2))"
   ]
  },
  {
   "cell_type": "markdown",
   "id": "e8487641",
   "metadata": {},
   "source": [
    "We see now that the function works as expected. It is also good practise to write tests for our functions to ensure they have the expected functionality. For a funciton like this we would just test for each case. We can write a test function list."
   ]
  },
  {
   "cell_type": "markdown",
   "id": "047ce0f7",
   "metadata": {},
   "source": [
    "def functionTest():\n",
    "    print(\"Testing function\")\n",
    "\n",
    "    expectedOutputs = [output1, output2]\n",
    "    inputs = [input1, input2]\n",
    "\n",
    "    for i in range(len(inputs)):\n",
    "        print(\"Test \" + i + \" : \")\n",
    "        if function(inputs[i]) == expectedOutputs[i]: \n",
    "            print(\"\\tPassed\")\n",
    "        else:\n",
    "            print(\"\\tFailed\")"
   ]
  },
  {
   "cell_type": "markdown",
   "id": "1d5e7da6",
   "metadata": {},
   "source": [
    "For the checkForValue Function we could write the test function as below. However this is just a guide and all we need to do for the test function is test each case of inputs for the function."
   ]
  },
  {
   "cell_type": "code",
   "execution_count": 114,
   "id": "721cadc4",
   "metadata": {},
   "outputs": [
    {
     "name": "stdout",
     "output_type": "stream",
     "text": [
      "Testing checkForValue\n",
      "Test 0 : \n",
      "\tPassed.\n",
      "Test 1 : \n",
      "\tPassed.\n"
     ]
    }
   ],
   "source": [
    "def testCheckForValue():\n",
    "    print(\"Testing checkForValue\")\n",
    "    \n",
    "    expectedOutputs = [True, False]\n",
    "    inputVal = [1, 7]\n",
    "    inputList = [[1, 2, 3], [1, 2, 3]]\n",
    "    \n",
    "    for i in range(len(inputVal)):\n",
    "        print(\"Test \" + str(i) + \" : \")\n",
    "        \n",
    "        if checkForValue(inputList[i], inputVal[i]) == expectedOutputs[i]:\n",
    "            print(\"\\tPassed.\")\n",
    "        else:\n",
    "            print(\"\\tFailed.\")\n",
    "\n",
    "testCheckForValue()"
   ]
  },
  {
   "cell_type": "markdown",
   "id": "499bdac8",
   "metadata": {},
   "source": [
    "## File IO\n",
    "\n"
   ]
  },
  {
   "cell_type": "markdown",
   "id": "0a3c537a",
   "metadata": {},
   "source": [
    "Although variables are very powerful and allow for us to store data, this data will be lost when the program ends. This is as it is stored in RAM, which will then be written over by other programs. If we want to keep any data from our program to use later or for other purposes we need to write it to files. There are many types of files that can be used and different file formats. We will go over txt files and csv files, as these are a good starting spot and will allow for you to retain data after a programs runtime."
   ]
  },
  {
   "cell_type": "markdown",
   "id": "c5c601db",
   "metadata": {},
   "source": [
    "### Reading\n",
    "\n",
    "To read files in python we first need to open the file. The syntax for this is as follows:\n",
    "\n",
    "```file = open(filename, \"r\")```\n",
    "\n",
    "This gives us a variable called file that we can now refrence in our program. In python there are three main methods for reading a file: ```readline()```, ```readlines()``` and ```read()```\n",
    "\n",
    "```readline()``` : Reads a single line from the file and then returns that line as a string\n",
    "\n",
    "```readlines()``` : Reads all the lines of the file and returns an array of each line, where each line ends with the \\n character\n",
    "\n",
    "```read()``` : Reads the whole file, we can also specify how many bytes to be read. (usually won't use this latter functionality)\n",
    "\n",
    "We also need to close files. This can be done using ```file.close()```"
   ]
  },
  {
   "cell_type": "markdown",
   "id": "0b2cfb9a",
   "metadata": {},
   "source": [
    "Some examples:"
   ]
  },
  {
   "cell_type": "code",
   "execution_count": 98,
   "id": "29d769b0",
   "metadata": {},
   "outputs": [
    {
     "name": "stdout",
     "output_type": "stream",
     "text": [
      "Hello this is a text file\n",
      "\n",
      "\n",
      "-----\n",
      "['Hello this is a text file\\n', 'this is the second line\\n', 'here are some more words for this text file\\n', 'This should help to understand fileio funcitonality\\n']\n",
      "\n",
      "-----\n",
      "Hello this is a text file\n",
      "this is the second line\n",
      "here are some more words for this text file\n",
      "This should help to understand fileio funcitonality\n",
      "\n"
     ]
    }
   ],
   "source": [
    "file = open(\"testfile.txt\", \"r\")\n",
    "\n",
    "print(file.readline())\n",
    "print(\"\\n-----\")\n",
    "file.close\n",
    "\n",
    "file = open(\"testfile.txt\", \"r\")\n",
    "print(file.readlines())\n",
    "print(\"\\n-----\")\n",
    "file.close\n",
    "\n",
    "file = open(\"testfile.txt\", \"r\")\n",
    "print(file.read())\n",
    "file.close()"
   ]
  },
  {
   "cell_type": "markdown",
   "id": "b440a510",
   "metadata": {},
   "source": [
    "Instead of having to close the file each time we can make use of the with keyword, which will clean up our file for us. This is good practise as even if an exception occurs it will make sure to still close the file. This is demonstrated below:"
   ]
  },
  {
   "cell_type": "code",
   "execution_count": 99,
   "id": "0398d7af",
   "metadata": {},
   "outputs": [
    {
     "name": "stdout",
     "output_type": "stream",
     "text": [
      "Hello this is a text file\n",
      "this is the second line\n",
      "here are some more words for this text file\n",
      "This should help to understand fileio funcitonality\n",
      "\n"
     ]
    }
   ],
   "source": [
    "with open(\"testfile.txt\", \"r\") as file:\n",
    "    print(file.read())"
   ]
  },
  {
   "cell_type": "markdown",
   "id": "b61a4683",
   "metadata": {},
   "source": [
    "Each subsequent read will move where we are reading from within the file, observe the following code and see how each read reads from a different position."
   ]
  },
  {
   "cell_type": "code",
   "execution_count": 100,
   "id": "e6391a17",
   "metadata": {},
   "outputs": [
    {
     "name": "stdout",
     "output_type": "stream",
     "text": [
      "Hello this is a text file\n",
      "\n",
      "---\n",
      "['this is the second line\\n', 'here are some more words for this text file\\n', 'This should help to understand fileio funcitonality\\n']\n",
      "---\n",
      "\n",
      "---\n"
     ]
    }
   ],
   "source": [
    "with open(\"testfile.txt\", \"r\") as file:\n",
    "    print(file.readline())\n",
    "    print(\"---\")\n",
    "    print(file.readlines())\n",
    "    print(\"---\")\n",
    "    print(file.read())\n",
    "    print(\"---\")"
   ]
  },
  {
   "cell_type": "markdown",
   "id": "687b4db2",
   "metadata": {},
   "source": [
    "Hence it is possible to use either function to read the whole file, with read we get all the text, with readlines we get it all seperated by each line and with readline we just keep reading until there are no lines left."
   ]
  },
  {
   "cell_type": "markdown",
   "id": "e5736c94",
   "metadata": {},
   "source": [
    "### Writing\n",
    "\n",
    "When we write to a file we need to open the file in write mode as shown below:\n",
    "\n",
    "```file = open(filename, \"w\")```\n",
    "However, as shown before we can make use of the with keyword and hence, would write it as:\n",
    "\n",
    "```with open(filename, \"w\")```\n",
    "To write string to a file we use the function write. This can be shown below, where we are writing to a new file then reading the content we added to it."
   ]
  },
  {
   "cell_type": "code",
   "execution_count": 101,
   "id": "f83a352a",
   "metadata": {},
   "outputs": [
    {
     "name": "stdout",
     "output_type": "stream",
     "text": [
      "THis is the first linehello\n"
     ]
    }
   ],
   "source": [
    "with open(\"test.txt\", \"w\") as file:\n",
    "    file.write(\"THis is the first line\")\n",
    "    file.write(\"hello\")\n",
    "\n",
    "with open(\"test.txt\", \"r\") as file:\n",
    "    print(file.read())"
   ]
  },
  {
   "cell_type": "markdown",
   "id": "29cec83d",
   "metadata": {},
   "source": [
    "As we can see, this does not add in the \\n after each write. We need to put this in ourselves."
   ]
  },
  {
   "cell_type": "code",
   "execution_count": 102,
   "id": "0284a11b",
   "metadata": {},
   "outputs": [
    {
     "name": "stdout",
     "output_type": "stream",
     "text": [
      "THis is the first line\n",
      "hello\n",
      "\n"
     ]
    }
   ],
   "source": [
    "with open(\"test.txt\", \"w\") as file:\n",
    "    file.write(\"THis is the first line\\n\")\n",
    "    file.write(\"hello\\n\")\n",
    "\n",
    "with open(\"test.txt\", \"r\") as file:\n",
    "    print(file.read())"
   ]
  },
  {
   "cell_type": "markdown",
   "id": "d254c1c8",
   "metadata": {},
   "source": [
    "### CSV files\n",
    "\n",
    "A csv file or comma seperated variable file is a file commonly used to store data. It is similar to an excel spreadsheet where all the values are separated into rows and columns. An example of such file is:\n",
    "\n",
    "```\n",
    "day,temperature\n",
    "Monday,26\n",
    "Tuesday,29\n",
    "Wednesday,30\n",
    "```\n",
    "\n",
    "Where all values are separated by commas, with each row being associated to a particular variable.\n",
    "\n"
   ]
  },
  {
   "cell_type": "code",
   "execution_count": 19,
   "id": "38dd9047",
   "metadata": {},
   "outputs": [
    {
     "name": "stdout",
     "output_type": "stream",
     "text": [
      "['Milan', 'Harison', 'Max', 'Dave\\n']\n"
     ]
    }
   ],
   "source": [
    "## reading a csv file\n",
    "namesfile = open('names.csv')\n",
    "line = namesfile.readline()\n",
    "linelist = line.split(',')\n",
    "print(linelist)"
   ]
  },
  {
   "cell_type": "markdown",
   "id": "08e5ab6f",
   "metadata": {},
   "source": [
    "Then to read the whole file we just need to loop through and read each line. Or read all lines then split based on the '\\n'. We can also then pass the data to whatever is required"
   ]
  },
  {
   "cell_type": "code",
   "execution_count": 20,
   "id": "a5c2fd13",
   "metadata": {},
   "outputs": [
    {
     "name": "stdout",
     "output_type": "stream",
     "text": [
      "Milan,Harison,Max,Dave\n",
      "\n"
     ]
    },
    {
     "data": {
      "text/plain": [
       "23"
      ]
     },
     "execution_count": 20,
     "metadata": {},
     "output_type": "execute_result"
    }
   ],
   "source": [
    "## writing a csv file\n",
    "newnames = open('names3.csv', 'w')\n",
    "newline = ','.join(linelist)\n",
    "print(newline)\n",
    "newnames.write(newline)"
   ]
  },
  {
   "cell_type": "markdown",
   "id": "e22ef00a",
   "metadata": {},
   "source": [
    "Now we can apply this to writing and reading much more complex csv files.\n",
    "\n",
    "The task is to parse the data from the weather csv from the BOM. The file is included in the directory. It is the data on weather from march last year. Now let's go through it"
   ]
  },
  {
   "cell_type": "code",
   "execution_count": 27,
   "id": "89475611",
   "metadata": {},
   "outputs": [
    {
     "name": "stdout",
     "output_type": "stream",
     "text": [
      "maxs: 37.7,29.9,35.2,36.1,36.2,34.7,33.8,34.5,31.9,29.9,30.9,24.8,24.2,24.1,24,28.3,24.6,19.8,23.8,26.2,21.4,24,24.2,26.3,27.2,22.4,23.3,22.9,24.9,28,29.9\n",
      "\n",
      "mins: 20.1,22.9,20.3,22.9,21.3,19.2,17.9,20.7,18.1,19.5,15.6,18.5,20.6,18.7,16.6,13,11.7,16.8,10.3,12.6,17.5,16.2,16.8,14.7,15.7,16.6,8.3,9.5,12.9,12.1,9.6\n",
      "\n"
     ]
    }
   ],
   "source": [
    "import matplotlib.pyplot as plt\n",
    "fileobj = open('marchweather.csv', 'r')\n",
    "\n",
    "lines = fileobj.readlines()\n",
    "\n",
    "fileobj.close()\n",
    "mins = lines[0]\n",
    "maxs = lines[1]\n",
    "\n",
    "print(\"maxs:\", str(maxs) + '\\n')\n",
    "print(\"mins:\", str(mins))"
   ]
  },
  {
   "cell_type": "markdown",
   "id": "63eaddb0",
   "metadata": {},
   "source": [
    "## Plotting\n",
    "\n",
    "In science, engineering and especially machine learning, being able to display our results in an easy to understand way is very important. The most popular python library for this task would be matplotlib.pyplot. It allows us to graph our results and display them and save them which is very useful. \n",
    "\n",
    "We start by importing the library"
   ]
  },
  {
   "cell_type": "code",
   "execution_count": 116,
   "id": "5e4f7cfa",
   "metadata": {},
   "outputs": [],
   "source": [
    "# importing the library is done through the import statement\n",
    "import matplotlib.pyplot"
   ]
  },
  {
   "cell_type": "markdown",
   "id": "a940f7d0",
   "metadata": {},
   "source": [
    "Python also allows for alias for imports, so lets import it as plt to simplify its usage later on"
   ]
  },
  {
   "cell_type": "code",
   "execution_count": 2,
   "id": "633b9c92",
   "metadata": {},
   "outputs": [],
   "source": [
    "# importing the library is done through the import statement\n",
    "import matplotlib.pyplot as plt"
   ]
  },
  {
   "cell_type": "markdown",
   "id": "0d9e1366",
   "metadata": {},
   "source": [
    "Now lets generate create a simple plot."
   ]
  },
  {
   "cell_type": "code",
   "execution_count": 3,
   "id": "52228e23",
   "metadata": {},
   "outputs": [
    {
     "data": {
      "image/png": "[encoded data removed]",
      "text/plain": [
       "<Figure size 432x288 with 1 Axes>"
      ]
     },
     "metadata": {
      "needs_background": "light"
     },
     "output_type": "display_data"
    }
   ],
   "source": [
    "plt.plot([1,2,3,4])\n",
    "plt.ylabel('Some data')\n",
    "plt.show()"
   ]
  },
  {
   "cell_type": "markdown",
   "id": "b8c3c29c",
   "metadata": {},
   "source": [
    "As shown above we can plot an array of data using the plot function from the matplotlib.pyplot library. We can add an x or y label using ```xlabel()``` or ```ylabel()```. Lastly, to show the plot the ```show()``` function is used."
   ]
  },
  {
   "cell_type": "markdown",
   "id": "3931a76f",
   "metadata": {},
   "source": [
    "When only one array is passed in, it is assumed that the data is for y values and uses default x values."
   ]
  },
  {
   "cell_type": "markdown",
   "id": "28f8461f",
   "metadata": {},
   "source": [
    "Now let's plot something more interesting."
   ]
  },
  {
   "cell_type": "code",
   "execution_count": 5,
   "id": "211144a3",
   "metadata": {},
   "outputs": [
    {
     "data": {
      "image/png": "[encoded data removed]",
      "text/plain": [
       "<Figure size 432x288 with 1 Axes>"
      ]
     },
     "metadata": {
      "needs_background": "light"
     },
     "output_type": "display_data"
    }
   ],
   "source": [
    "x = [1, 2, 3, 4, 5]\n",
    "y = [5, 6, 2, 1, 9]\n",
    "plt.plot(x, y)\n",
    "plt.title('Some plot of data')\n",
    "plt.show()"
   ]
  },
  {
   "cell_type": "markdown",
   "id": "829213c3",
   "metadata": {},
   "source": [
    "We can also plot with other colours and symbols."
   ]
  },
  {
   "cell_type": "code",
   "execution_count": 6,
   "id": "318490c4",
   "metadata": {},
   "outputs": [
    {
     "data": {
      "image/png": "[encoded data removed]",
      "text/plain": [
       "<Figure size 432x288 with 1 Axes>"
      ]
     },
     "metadata": {
      "needs_background": "light"
     },
     "output_type": "display_data"
    }
   ],
   "source": [
    "x = [1, 2, 3, 4, 5]\n",
    "y = [5, 6, 2, 1, 9]\n",
    "plt.plot(x, y, 'ro')\n",
    "plt.title('Some plot of data')\n",
    "plt.show()"
   ]
  },
  {
   "cell_type": "code",
   "execution_count": 9,
   "id": "6aaccfcc",
   "metadata": {},
   "outputs": [
    {
     "data": {
      "image/png": "[encoded data removed]",
      "text/plain": [
       "<Figure size 432x288 with 1 Axes>"
      ]
     },
     "metadata": {
      "needs_background": "light"
     },
     "output_type": "display_data"
    }
   ],
   "source": [
    "x = [1, 2, 3, 4, 5]\n",
    "y = [5, 6, 2, 1, 9]\n",
    "plt.plot(x, y, 'g^')\n",
    "plt.title('Some plot of data')\n",
    "plt.show()"
   ]
  },
  {
   "cell_type": "markdown",
   "id": "013ce958",
   "metadata": {},
   "source": [
    "Or plot multiple things on the same plot"
   ]
  },
  {
   "cell_type": "code",
   "execution_count": 11,
   "id": "998098cb",
   "metadata": {},
   "outputs": [
    {
     "data": {
      "image/png": "[encoded data removed]",
      "text/plain": [
       "<Figure size 432x288 with 1 Axes>"
      ]
     },
     "metadata": {
      "needs_background": "light"
     },
     "output_type": "display_data"
    }
   ],
   "source": [
    "x = [1, 2, 3, 4, 5]\n",
    "y1 = [5, 6, 2, 1, 9]\n",
    "y2 = [9, 2, 5, 2, 1]\n",
    "y3 = [5, 7, 2, 9 ,1]\n",
    "plt.plot(x, y1, 'r--', x, y2, 'bs', x, y3, 'g^')\n",
    "plt.title('Some plot of data')\n",
    "plt.show()"
   ]
  },
  {
   "cell_type": "markdown",
   "id": "b6e0bb8b",
   "metadata": {},
   "source": [
    "Some of the other symbols that you can plot with are:\\\n",
    "**linestyles**: '-', '--', '-.', ':', 'steps'\\\n",
    "**markers**: 's' (square), '^' (triangle), '+', ',', '.', '1', '2', '3'\\\n",
    "**colours (short names)**: 'b', 'g', 'r', 'c', 'm', 'y', 'k','w\\\n",
    "**colours**: 'blue', 'pink', 'red', ..."
   ]
  },
  {
   "cell_type": "markdown",
   "id": "5e29e28a",
   "metadata": {},
   "source": [
    "More information on the different colours and symbols can be found in the documentation which can be accessed here. https://matplotlib.org/stable/api/_as_gen/matplotlib.pyplot.html \n",
    "Reading documentation is very important as a programmer so we must be able to find out what functions we can use when using certain languages or libraries. We can access the python documentation through here if we need to look up anything https://docs.python.org/3/"
   ]
  },
  {
   "cell_type": "markdown",
   "id": "34f2e762",
   "metadata": {},
   "source": [
    "Continuing with plotting, we can also have multiple plots in the same image. This is done through the ```subplot()``` function. It works by rows and columns. This can be explained best with an example."
   ]
  },
  {
   "cell_type": "code",
   "execution_count": 13,
   "id": "7b29bcb6",
   "metadata": {},
   "outputs": [
    {
     "data": {
      "image/png": "[encoded data removed]",
      "text/plain": [
       "<Figure size 432x288 with 4 Axes>"
      ]
     },
     "metadata": {
      "needs_background": "light"
     },
     "output_type": "display_data"
    }
   ],
   "source": [
    "plt.figure(1) # To set up the sub plot\n",
    "plt.subplot(221) # This means the plot will have two rows and two colums and this is the first plot of the four\n",
    "plt.plot(x, y1, '--')\n",
    "plt.ylabel('some data')\n",
    "plt.title('A plot of some data')\n",
    "\n",
    "plt.subplot(222) # This is the second plot of the four. The first number is the rows, then columns, then plot in the sequence\n",
    "plt.plot(x, y2, 'ro')\n",
    "\n",
    "plt.subplot(223) # Now the third plot\n",
    "plt.plot(x, y3, '-,')\n",
    "plt.ylabel('some data')\n",
    "\n",
    "plt.subplot(224) # And finally the fourth\n",
    "plt.plot(x, y1, '+')\n",
    "\n",
    "plt.show()"
   ]
  },
  {
   "cell_type": "markdown",
   "id": "f1937249",
   "metadata": {},
   "source": [
    "### Bar charts\n",
    "There are other types of plots that we can use as well such as bar charts. This instead uses ```plt.bar()```. A horizontal barchart can also be done using the ```plt.barh()``` function."
   ]
  },
  {
   "cell_type": "code",
   "execution_count": 17,
   "id": "dccc15c2",
   "metadata": {},
   "outputs": [
    {
     "data": {
      "image/png": "[encoded data removed]",
      "text/plain": [
       "<Figure size 432x288 with 1 Axes>"
      ]
     },
     "metadata": {
      "needs_background": "light"
     },
     "output_type": "display_data"
    }
   ],
   "source": [
    "# Lets create some data from rolling a dice\n",
    "ones = 4\n",
    "twos = 5\n",
    "threes = 6\n",
    "fours = 3\n",
    "fives = 3\n",
    "sixes = 4\n",
    "\n",
    "plt.title('Dice rolling')\n",
    "plt.xlabel('number')\n",
    "plt.ylabel('count')\n",
    "\n",
    "plt.bar([1, 2, 3, 4, 5, 6], [ones, twos, threes, fours, fives, sixes])\n",
    "plt.show()"
   ]
  },
  {
   "cell_type": "markdown",
   "id": "10adefdc",
   "metadata": {},
   "source": [
    "### Histograms\n",
    "The last type of plot covered today is a histogram, best to show distributions. These are plotted using ```plt.hist()```"
   ]
  },
  {
   "cell_type": "code",
   "execution_count": 15,
   "id": "d30b51b6",
   "metadata": {},
   "outputs": [
    {
     "data": {
      "image/png": "[encoded data removed]",
      "text/plain": [
       "<Figure size 432x288 with 1 Axes>"
      ]
     },
     "metadata": {
      "needs_background": "light"
     },
     "output_type": "display_data"
    }
   ],
   "source": [
    "from numpy.random import normal\n",
    "\n",
    "gaussian_numbers = normal(size=1000)\n",
    "plt.hist(gaussian_numbers)\n",
    "plt.title(\"Gaussian Histogram\")\n",
    "plt.xlabel(\"Value\")\n",
    "plt.ylabel(\"Frequency\")\n",
    "plt.show()"
   ]
  },
  {
   "cell_type": "markdown",
   "id": "312640e1",
   "metadata": {},
   "source": [
    "Now with everything covered, you may be thinking where can I go from here? If you wish to learn more about python there are tons of resources online, there are also a few other workshops I have written if you wish to view them. They can be found here: https://github.com/Curtin-Machine-Learning-Club/Week-1-Content/tree/master/PythonIntroduction  . If you wish to apply your new skills to machine learning, you're in luck as we will be running machine learning workshops."
   ]
  }
 ],
 "metadata": {
  "kernelspec": {
   "display_name": "Python 3 (ipykernel)",
   "language": "python",
   "name": "python3"
  },
  "language_info": {
   "codemirror_mode": {
    "name": "ipython",
    "version": 3
   },
   "file_extension": ".py",
   "mimetype": "text/x-python",
   "name": "python",
   "nbconvert_exporter": "python",
   "pygments_lexer": "ipython3",
   "version": "3.10.2"
  }
 },
 "nbformat": 4,
 "nbformat_minor": 5
}
